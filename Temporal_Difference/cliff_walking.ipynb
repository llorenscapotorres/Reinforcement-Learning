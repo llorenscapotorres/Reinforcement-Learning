{
 "cells": [
  {
   "cell_type": "markdown",
   "id": "69c3bdb4",
   "metadata": {},
   "source": [
    "# Cliff Walking\n",
    "\n",
    "Consider the gridworld that have a 'cliff' where if the agent put the foot on, it will get a reward of -100.\n",
    "\n",
    "This is a standard undiscounted, episodic task, with start and goal states, and the usual actions causing movement up, down, right, and left. Rewards is -1 on all transitions except those into the region marked as 'the cliff'. Stepping into this region incurs a reward of -100 and sends the agent instantly back to the start."
   ]
  },
  {
   "cell_type": "code",
   "execution_count": 2,
   "id": "70185c9e",
   "metadata": {},
   "outputs": [],
   "source": [
    "# Import the functions and libraries needed\n",
    "from TD_methods import td_sarsa_control, q_learning_control, take_action\n",
    "import numpy as np"
   ]
  },
  {
   "cell_type": "markdown",
   "id": "c8cc7887",
   "metadata": {},
   "source": [
    "This are the possible states in the gridworld:\n",
    "\n",
    "* `0`: Where the agent can move.\n",
    "* `1`: The Cliff.\n",
    "* `2`: Where the agent can not move.\n",
    "* `3`: Initial state.\n",
    "* `4`: Final state."
   ]
  },
  {
   "cell_type": "code",
   "execution_count": 3,
   "id": "efa177ae",
   "metadata": {},
   "outputs": [],
   "source": [
    "# Let's create the gridworld\n",
    "gridworld = np.array([\n",
    "    [2, 2, 2, 2, 2, 2, 2 ,2, 2, 2, 2, 2, 2, 2],\n",
    "    [2, 0, 0, 0, 0, 0, 0, 0, 0, 0, 0, 0, 0, 2],\n",
    "    [2, 0, 0, 0, 0, 0, 0, 0, 0, 0, 0, 0, 0, 2],\n",
    "    [2, 0, 0, 0, 0, 0, 0, 0, 0, 0, 0, 0, 0, 2],\n",
    "    [2, 3, 1, 1, 1, 1, 1, 1, 1, 1, 1, 1, 4, 2],\n",
    "    [2, 2, 2, 2, 2, 2 ,2, 2, 2, 2, 2, 2, 2, 2]\n",
    "])\n",
    "\n",
    "n, m = gridworld.shape"
   ]
  },
  {
   "cell_type": "code",
   "execution_count": 4,
   "id": "9a315469",
   "metadata": {},
   "outputs": [],
   "source": [
    "non_terminal_states=[]\n",
    "terminal_states=[]\n",
    "initial_states=[]\n",
    "for i in range(n-1):\n",
    "    for j in range(m):\n",
    "        if gridworld[i, j] != 2:\n",
    "            if gridworld[i, j] == 0 or gridworld[i, j] == 1:\n",
    "                non_terminal_states.append((i, j))\n",
    "            elif gridworld[i, j] == 3:\n",
    "                initial_states.append((i, j))\n",
    "                non_terminal_states.append((i, j))\n",
    "            else:\n",
    "                terminal_states.append((i, j))"
   ]
  },
  {
   "cell_type": "code",
   "execution_count": 5,
   "id": "5e03bd9f",
   "metadata": {},
   "outputs": [],
   "source": [
    "actions={}\n",
    "states = non_terminal_states + terminal_states\n",
    "for state in states:\n",
    "    actions[state] = [action for action in ['up', 'down', 'right', 'left']]"
   ]
  },
  {
   "cell_type": "code",
   "execution_count": 6,
   "id": "02e8251d",
   "metadata": {},
   "outputs": [],
   "source": [
    "initial_Q = {}\n",
    "for s in states:\n",
    "    initial_Q[s] = {}\n",
    "    for a in actions[s]:\n",
    "        initial_Q[s][a] = 0"
   ]
  },
  {
   "cell_type": "code",
   "execution_count": 7,
   "id": "a9a7043d",
   "metadata": {},
   "outputs": [],
   "source": [
    "def next_step_cliff_walking(state, action):\n",
    "\n",
    "    def is_valid(position):\n",
    "        i, j = position\n",
    "        if gridworld[i, j] == 0 or gridworld[i, j] == 3 or gridworld[i, j] == 4:\n",
    "            return True\n",
    "        return False\n",
    "    \n",
    "    def is_cliff(position):\n",
    "        i, j = position\n",
    "        if gridworld[i, j] == 1:\n",
    "            return True\n",
    "        return False\n",
    "\n",
    "    i, j = state\n",
    "\n",
    "    # Aplica acción\n",
    "    if action == 'up':\n",
    "        i2, j2 = i - 1, j\n",
    "    elif action == 'down':\n",
    "        i2, j2 = i + 1, j\n",
    "    elif action == 'right':\n",
    "        i2, j2 = i, j + 1\n",
    "    elif action == 'left':\n",
    "        i2, j2 = i, j - 1\n",
    "    else:\n",
    "        raise ValueError(\"Acción inválida\")\n",
    "\n",
    "    # Verifica si el movimiento por acción es válido\n",
    "    if not is_valid((i2, j2)):\n",
    "        if is_cliff((i2, j2)):\n",
    "            idx = np.random.randint(0, len(initial_states))\n",
    "            return (initial_states[idx], -100)\n",
    "        else:\n",
    "            return (state, -1)\n",
    "\n",
    "    return ((i2, j2), -1)\n"
   ]
  },
  {
   "cell_type": "markdown",
   "id": "a5e185b3",
   "metadata": {},
   "source": [
    "## Using Q-Learning to solve the problem"
   ]
  },
  {
   "cell_type": "code",
   "execution_count": 8,
   "id": "df57195c",
   "metadata": {},
   "outputs": [],
   "source": [
    "Q, policy = q_learning_control(non_terminal_states=non_terminal_states,\n",
    "                 terminal_states=terminal_states,\n",
    "                 initial_states=initial_states,\n",
    "                 actions=actions,\n",
    "                 next_step_fn=next_step_cliff_walking,\n",
    "                 gamma=1.0,\n",
    "                 alpha=0.2,\n",
    "                 epsilon=0.1,\n",
    "                 num_episodes=50000,\n",
    "                 initial_Q=initial_Q)"
   ]
  },
  {
   "cell_type": "code",
   "execution_count": 9,
   "id": "1d9f274f",
   "metadata": {},
   "outputs": [],
   "source": [
    "state = initial_states[0]\n",
    "actions_optimal_path_q_learning = []\n",
    "states_optimal_path_q_learning = [state]\n",
    "while True:\n",
    "    action = take_action(state, Q, epsilon_greedy=False)\n",
    "    actions_optimal_path_q_learning.append(action)\n",
    "    state = next_step_cliff_walking(state, action)[0]\n",
    "    states_optimal_path_q_learning.append(state)\n",
    "    if state in terminal_states:\n",
    "        break"
   ]
  },
  {
   "cell_type": "markdown",
   "id": "089ed8c6",
   "metadata": {},
   "source": [
    "## Using SARSA to solve the problem"
   ]
  },
  {
   "cell_type": "code",
   "execution_count": 14,
   "id": "bcd0490f",
   "metadata": {},
   "outputs": [],
   "source": [
    "Q, policy = td_sarsa_control(non_terminal_states=non_terminal_states,\n",
    "                 terminal_states=terminal_states,\n",
    "                 initial_states=initial_states,\n",
    "                 actions=actions,\n",
    "                 next_step_fn=next_step_cliff_walking,\n",
    "                 gamma=1.0,\n",
    "                 alpha=0.2,\n",
    "                 epsilon=0.1,\n",
    "                 num_episodes=5000,\n",
    "                 initial_Q=initial_Q)"
   ]
  },
  {
   "cell_type": "code",
   "execution_count": 15,
   "id": "000dfec9",
   "metadata": {},
   "outputs": [],
   "source": [
    "state = initial_states[0]\n",
    "actions_optimal_path_sarsa = []\n",
    "states_optimal_path_sarsa = [state]\n",
    "while True:\n",
    "    action = take_action(state, Q, epsilon_greedy=False)\n",
    "    actions_optimal_path_sarsa.append(action)\n",
    "    state = next_step_cliff_walking(state, action)[0]\n",
    "    states_optimal_path_sarsa.append(state)\n",
    "    if state in terminal_states:\n",
    "        break"
   ]
  },
  {
   "cell_type": "markdown",
   "id": "025b422c",
   "metadata": {},
   "source": [
    "## Plotting the solutions"
   ]
  },
  {
   "cell_type": "code",
   "execution_count": 21,
   "id": "ce596a45",
   "metadata": {},
   "outputs": [
    {
     "data": {
      "image/png": "[encoded data removed]",
      "text/plain": [
       "<Figure size 1200x600 with 1 Axes>"
      ]
     },
     "metadata": {},
     "output_type": "display_data"
    }
   ],
   "source": [
    "import matplotlib.pyplot as plt\n",
    "import numpy as np\n",
    "\n",
    "# Gridworld definition\n",
    "gridworld = np.array([\n",
    "    [2, 2, 2, 2, 2, 2, 2 ,2, 2, 2, 2, 2, 2, 2],\n",
    "    [2, 0, 0, 0, 0, 0, 0, 0, 0, 0, 0, 0, 0, 2],\n",
    "    [2, 0, 0, 0, 0, 0, 0, 0, 0, 0, 0, 0, 0, 2],\n",
    "    [2, 0, 0, 0, 0, 0, 0, 0, 0, 0, 0, 0, 0, 2],\n",
    "    [2, 3, 1, 1, 1, 1, 1, 1, 1, 1, 1, 1, 4, 2],\n",
    "    [2, 2, 2, 2, 2, 2 ,2, 2, 2, 2, 2, 2, 2, 2]\n",
    "])\n",
    "\n",
    "# Plot setup\n",
    "fig, ax = plt.subplots(figsize=(12, 6))\n",
    "\n",
    "# Define color map for the grid\n",
    "cmap = {\n",
    "    0: \"white\",    # walkable\n",
    "    1: \"red\",      # cliff\n",
    "    2: \"black\",    # wall\n",
    "    3: \"blue\",     # start\n",
    "    4: \"green\"     # goal\n",
    "}\n",
    "\n",
    "# Draw the grid\n",
    "for i in range(gridworld.shape[0]):\n",
    "    for j in range(gridworld.shape[1]):\n",
    "        cell = gridworld[i, j]\n",
    "        ax.add_patch(plt.Rectangle((j, gridworld.shape[0] - 1 - i), 1, 1, color=cmap[cell], ec='gray'))\n",
    "\n",
    "# Draw Q-learning path\n",
    "for (i, j) in states_optimal_path_q_learning:\n",
    "    ax.add_patch(plt.Rectangle((j + 0.25, gridworld.shape[0] - 1 - i + 0.25), 0.5, 0.5, color='orange', alpha=0.8))\n",
    "\n",
    "# Draw SARSA path\n",
    "for (i, j) in states_optimal_path_sarsa:\n",
    "    ax.add_patch(plt.Rectangle((j + 0.25, gridworld.shape[0] - 1 - i + 0.25), 0.5, 0.5, color='purple', alpha=0.8))\n",
    "\n",
    "# Legend\n",
    "legend_elements = [\n",
    "    plt.Rectangle((0, 0), 1, 1, color=\"white\", ec='gray', label=\"Walkable\"),\n",
    "    plt.Rectangle((0, 0), 1, 1, color=\"red\", label=\"Cliff\"),\n",
    "    plt.Rectangle((0, 0), 1, 1, color=\"black\", label=\"Wall\"),\n",
    "    plt.Rectangle((0, 0), 1, 1, color=\"blue\", label=\"Start\"),\n",
    "    plt.Rectangle((0, 0), 1, 1, color=\"green\", label=\"Goal\"),\n",
    "    plt.Rectangle((0, 0), 1, 1, color=\"orange\", label=\"Q-learning Path\"),\n",
    "    plt.Rectangle((0, 0), 1, 1, color=\"purple\", label=\"SARSA Path\"),\n",
    "]\n",
    "ax.legend(handles=legend_elements, loc='upper center', bbox_to_anchor=(0.5, -0.05), ncol=4)\n",
    "\n",
    "# Grid and formatting\n",
    "ax.set_xticks(np.arange(gridworld.shape[1]))\n",
    "ax.set_yticks(np.arange(gridworld.shape[0]))\n",
    "ax.set_xticklabels([])\n",
    "ax.set_yticklabels([])\n",
    "ax.grid(True)\n",
    "ax.set_xlim(0, gridworld.shape[1])\n",
    "ax.set_ylim(0, gridworld.shape[0])\n",
    "ax.set_title(\"Optimal Paths: Q-learning vs SARSA\")\n",
    "\n",
    "plt.tight_layout()\n",
    "plt.show()\n"
   ]
  },
  {
   "cell_type": "code",
   "execution_count": 22,
   "id": "c955ee36",
   "metadata": {},
   "outputs": [
    {
     "data": {
      "image/png": "[encoded data removed]",
      "text/plain": [
       "<Figure size 1200x600 with 1 Axes>"
      ]
     },
     "metadata": {},
     "output_type": "display_data"
    }
   ],
   "source": [
    "# Redibujo del grid con caminos como líneas finas\n",
    "\n",
    "fig, ax = plt.subplots(figsize=(12, 6))\n",
    "\n",
    "# Redibujar el grid\n",
    "for i in range(gridworld.shape[0]):\n",
    "    for j in range(gridworld.shape[1]):\n",
    "        cell = gridworld[i, j]\n",
    "        ax.add_patch(plt.Rectangle((j, gridworld.shape[0] - 1 - i), 1, 1, color=cmap[cell], ec='gray'))\n",
    "\n",
    "# Función auxiliar para convertir coordenadas de celda a coordenadas de centro de celda\n",
    "def cell_center(state):\n",
    "    i, j = state\n",
    "    return j + 0.5, gridworld.shape[0] - 1 - i + 0.5\n",
    "\n",
    "# Dibujar el camino de Q-learning como línea\n",
    "q_learning_path_coords = [cell_center(s) for s in states_optimal_path_q_learning]\n",
    "q_x, q_y = zip(*q_learning_path_coords)\n",
    "ax.plot(q_x, q_y, color='orange', linewidth=2, label='Q-learning Path')\n",
    "\n",
    "# Dibujar el camino de SARSA como línea\n",
    "sarsa_path_coords = [cell_center(s) for s in states_optimal_path_sarsa]\n",
    "s_x, s_y = zip(*sarsa_path_coords)\n",
    "ax.plot(s_x, s_y, color='purple', linewidth=2, label='SARSA Path')\n",
    "\n",
    "# Leyenda y ajustes\n",
    "legend_elements = [\n",
    "    plt.Rectangle((0, 0), 1, 1, color=\"white\", ec='gray', label=\"Walkable\"),\n",
    "    plt.Rectangle((0, 0), 1, 1, color=\"red\", label=\"Cliff\"),\n",
    "    plt.Rectangle((0, 0), 1, 1, color=\"black\", label=\"Wall\"),\n",
    "    plt.Rectangle((0, 0), 1, 1, color=\"blue\", label=\"Start\"),\n",
    "    plt.Rectangle((0, 0), 1, 1, color=\"green\", label=\"Goal\"),\n",
    "    plt.Line2D([0], [0], color=\"orange\", linewidth=2, label=\"Q-learning Path\"),\n",
    "    plt.Line2D([0], [0], color=\"purple\", linewidth=2, label=\"SARSA Path\"),\n",
    "]\n",
    "ax.legend(handles=legend_elements, loc='upper center', bbox_to_anchor=(0.5, -0.05), ncol=4)\n",
    "\n",
    "ax.set_xticks(np.arange(gridworld.shape[1]))\n",
    "ax.set_yticks(np.arange(gridworld.shape[0]))\n",
    "ax.set_xticklabels([])\n",
    "ax.set_yticklabels([])\n",
    "ax.grid(True)\n",
    "ax.set_xlim(0, gridworld.shape[1])\n",
    "ax.set_ylim(0, gridworld.shape[0])\n",
    "ax.set_title(\"Optimal Paths as Lines: Q-learning vs SARSA\")\n",
    "\n",
    "plt.tight_layout()\n",
    "plt.show()\n"
   ]
  },
  {
   "cell_type": "code",
   "execution_count": 26,
   "id": "b0ecf719",
   "metadata": {},
   "outputs": [
    {
     "data": {
      "image/png": "[encoded data removed]",
      "text/plain": [
       "<Figure size 1200x600 with 1 Axes>"
      ]
     },
     "metadata": {},
     "output_type": "display_data"
    }
   ],
   "source": [
    "# Redibujo más limpio: caminos con líneas y estados especiales más pequeños\n",
    "\n",
    "fig, ax = plt.subplots(figsize=(12, 6))\n",
    "\n",
    "# Redibujar el grid base\n",
    "for i in range(gridworld.shape[0]):\n",
    "    for j in range(gridworld.shape[1]):\n",
    "        cell = gridworld[i, j]\n",
    "        if cell not in [3, 4]:  # omitimos start y goal para pintarlos más pequeños después\n",
    "            ax.add_patch(plt.Rectangle((j, gridworld.shape[0] - 1 - i), 1, 1, color=cmap[cell], ec='gray'))\n",
    "\n",
    "# Función auxiliar para convertir coordenadas de celda a centro\n",
    "def cell_center(state):\n",
    "    i, j = state\n",
    "    return j + 0.5, gridworld.shape[0] - 1 - i + 0.5\n",
    "\n",
    "# Dibujar caminos\n",
    "q_learning_path_coords = [cell_center(s) for s in states_optimal_path_q_learning]\n",
    "sarsa_path_coords = [cell_center(s) for s in states_optimal_path_sarsa]\n",
    "q_x, q_y = zip(*q_learning_path_coords)\n",
    "s_x, s_y = zip(*sarsa_path_coords)\n",
    "\n",
    "ax.plot(q_x, q_y, color='orange', linewidth=5, label='Q-learning Path')\n",
    "ax.plot(s_x, s_y, color='purple', linewidth=5, label='SARSA Path')\n",
    "\n",
    "# Dibujar start y goal con marcadores más pequeños\n",
    "for i in range(gridworld.shape[0]):\n",
    "    for j in range(gridworld.shape[1]):\n",
    "        if gridworld[i, j] == 3:\n",
    "            x, y = cell_center((i, j))\n",
    "            ax.add_patch(plt.Circle((x, y), 0.25, color='blue', label='Start'))\n",
    "        elif gridworld[i, j] == 4:\n",
    "            x, y = cell_center((i, j))\n",
    "            ax.add_patch(plt.Circle((x, y), 0.25, color='green', label='Goal'))\n",
    "\n",
    "# Leyenda y detalles\n",
    "legend_elements = [\n",
    "    plt.Rectangle((0, 0), 1, 1, color=\"white\", ec='gray', label=\"Walkable\"),\n",
    "    plt.Rectangle((0, 0), 1, 1, color=\"red\", label=\"Cliff\"),\n",
    "    plt.Rectangle((0, 0), 1, 1, color=\"black\", label=\"Wall\"),\n",
    "    plt.Circle((0, 0), 0.25, color=\"blue\", label=\"Start\"),\n",
    "    plt.Circle((0, 0), 0.25, color=\"green\", label=\"Goal\"),\n",
    "    plt.Line2D([0], [0], color=\"orange\", linewidth=2, label=\"Q-learning Path\"),\n",
    "    plt.Line2D([0], [0], color=\"purple\", linewidth=2, label=\"SARSA Path\"),\n",
    "]\n",
    "ax.legend(handles=legend_elements, loc='upper center', bbox_to_anchor=(0.5, -0.05), ncol=4)\n",
    "\n",
    "# Estética del grid\n",
    "ax.set_xticks(np.arange(gridworld.shape[1]))\n",
    "ax.set_yticks(np.arange(gridworld.shape[0]))\n",
    "ax.set_xticklabels([])\n",
    "ax.set_yticklabels([])\n",
    "ax.grid(True)\n",
    "ax.set_xlim(0, gridworld.shape[1])\n",
    "ax.set_ylim(0, gridworld.shape[0])\n",
    "ax.set_title(\"Cliff Walking – Optimal Paths (Q-learning vs SARSA)\")\n",
    "\n",
    "plt.tight_layout()\n",
    "plt.show()\n"
   ]
  }
 ],
 "metadata": {
  "kernelspec": {
   "display_name": "rl",
   "language": "python",
   "name": "python3"
  },
  "language_info": {
   "codemirror_mode": {
    "name": "ipython",
    "version": 3
   },
   "file_extension": ".py",
   "mimetype": "text/x-python",
   "name": "python",
   "nbconvert_exporter": "python",
   "pygments_lexer": "ipython3",
   "version": "3.11.13"
  }
 },
 "nbformat": 4,
 "nbformat_minor": 5
}
