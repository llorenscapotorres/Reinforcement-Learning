{
 "cells": [
  {
   "cell_type": "markdown",
   "id": "c12d880a",
   "metadata": {},
   "source": [
    "# Windy Gridworld\n",
    "\n",
    "Imagine a standard gridworld, with start and goal states, but with one difference: there is a crosswind running upward through the middle of the grid. The actions are the standard four -`up`, `down`, `right`, `left`- but in the middle region the resultant next states are shifted upward by \"wind\", the strength of which varies from column to column.\n",
    "\n",
    "This is an undiscounted episodic task, with **constant rewards of -1** until the goal is reached."
   ]
  },
  {
   "cell_type": "markdown",
   "id": "2fc52f42",
   "metadata": {},
   "source": [
    "## Windy Gridworld Static Wind\n",
    "\n",
    "Let's say the first 3 columns don't have wind, the next 3 columns have wind by 1, then the next 2 columns have wind by 2, then 1 and finally 0. So, we have a griworld of 10 columns."
   ]
  },
  {
   "cell_type": "code",
   "execution_count": 91,
   "id": "c029c66b",
   "metadata": {},
   "outputs": [],
   "source": [
    "from TD_methods import td_sarsa_control\n",
    "import numpy as np"
   ]
  },
  {
   "cell_type": "code",
   "execution_count": 92,
   "id": "40884e5a",
   "metadata": {},
   "outputs": [],
   "source": [
    "# Let's create just the gridworld\n",
    "gridworld = np.array([\n",
    "    [0, 0, 0, 0, 0, 0, 0, 0, 0, 0, 0, 0],\n",
    "    [0, 0, 0, 0, 0, 0, 0, 0, 0, 0, 0, 0],\n",
    "    [0, 0, 0, 0, 0, 0, 0, 0, 0, 0, 0, 0],\n",
    "    [0, 1, 1, 1, 1, 1, 1, 1, 1, 1, 1, 0],\n",
    "    [0, 1, 1, 1, 1, 1, 1, 1, 1, 1, 1, 0],\n",
    "    [0, 1, 1, 1, 1, 1, 1, 1, 1, 1, 1, 0],\n",
    "    [0, 2, 1, 1, 1, 1, 1, 1, 3, 1, 1, 0],\n",
    "    [0, 1, 1, 1, 1, 1, 1, 1, 1, 1, 1, 0],\n",
    "    [0, 1, 1, 1, 1, 1, 1, 1, 1, 1, 1, 0],\n",
    "    [0, 1, 1, 1, 1, 1, 1, 1, 1, 1, 1, 0],\n",
    "    [0, 0, 0, 0, 0, 0, 0, 0, 0, 0, 0, 0],\n",
    "    [0, 0, 0, 0, 0, 0, 0, 0, 0, 0, 0, 0],\n",
    "    [0, 0, 0, 0, 1, 1, 1, 2, 2, 1, 0, 0] # This row represents the wind in each column\n",
    "])"
   ]
  },
  {
   "cell_type": "code",
   "execution_count": 93,
   "id": "a8a692de",
   "metadata": {},
   "outputs": [],
   "source": [
    "n, m = gridworld.shape"
   ]
  },
  {
   "cell_type": "markdown",
   "id": "25444f2c",
   "metadata": {},
   "source": [
    "Say that a state is represented by a tuple, which has the position in the first index, and the wind in the second."
   ]
  },
  {
   "cell_type": "code",
   "execution_count": 94,
   "id": "ba207d05",
   "metadata": {},
   "outputs": [],
   "source": [
    "non_terminal_states=[]\n",
    "terminal_states=[]\n",
    "initial_states=[]\n",
    "for i in range(n-1):\n",
    "    for j in range(m):\n",
    "        if gridworld[i, j] != 0:\n",
    "            if gridworld[i, j] == 1:\n",
    "                non_terminal_states.append(((i, j), gridworld[n-1, j]))\n",
    "            elif gridworld[i, j] == 2:\n",
    "                initial_states.append(((i, j), gridworld[n-1, j]))\n",
    "                non_terminal_states.append(((i, j), gridworld[n-1, j]))\n",
    "            else:\n",
    "                terminal_states.append(((i, j), gridworld[n-1, j]))"
   ]
  },
  {
   "cell_type": "code",
   "execution_count": 95,
   "id": "f80390db",
   "metadata": {},
   "outputs": [],
   "source": [
    "actions={}\n",
    "states = non_terminal_states + terminal_states\n",
    "for state in states:\n",
    "    actions[state] = [action for action in ['up', 'down', 'right', 'left']]"
   ]
  },
  {
   "cell_type": "code",
   "execution_count": 96,
   "id": "d35470dc",
   "metadata": {},
   "outputs": [],
   "source": [
    "def next_step_static_wind(state, action):\n",
    "    \"\"\"\n",
    "    Simula un paso en el gridworld con viento.\n",
    "    Primero aplica la acción, y luego aplica el viento hacia arriba, \n",
    "    desplazándose lo más posible hasta encontrar una pared.\n",
    "    \"\"\"\n",
    "    def is_valid(position):\n",
    "        i, j = position\n",
    "        if 0 <= i < gridworld.shape[0] and 0 <= j < gridworld.shape[1]:\n",
    "            return gridworld[i, j] != 0\n",
    "        return False\n",
    "\n",
    "    i, j = state[0]\n",
    "    wind = state[1]\n",
    "\n",
    "    # Aplica acción\n",
    "    if action == 'up':\n",
    "        i2, j2 = i - 1, j\n",
    "    elif action == 'down':\n",
    "        i2, j2 = i + 1, j\n",
    "    elif action == 'right':\n",
    "        i2, j2 = i, j + 1\n",
    "    elif action == 'left':\n",
    "        i2, j2 = i, j - 1\n",
    "    else:\n",
    "        raise ValueError(\"Acción inválida\")\n",
    "\n",
    "    # Verifica si el movimiento por acción es válido\n",
    "    if not is_valid((i2, j2)):\n",
    "        return (state, -1)\n",
    "\n",
    "    # Aplica el viento hacia arriba, paso a paso\n",
    "    for _ in range(wind):\n",
    "        if is_valid((i2 - 1, j2)):\n",
    "            i2 -= 1\n",
    "        else:\n",
    "            break  # Se choca con la pared y se detiene\n",
    "\n",
    "    new_state = ((i2, j2), gridworld[-1, j2])\n",
    "    return (new_state, -1)\n"
   ]
  },
  {
   "cell_type": "code",
   "execution_count": 97,
   "id": "8417d442",
   "metadata": {},
   "outputs": [],
   "source": [
    "initial_Q = {}\n",
    "for s in states:\n",
    "    initial_Q[s] = {}\n",
    "    for a in actions[s]:\n",
    "        initial_Q[s][a] = 0"
   ]
  },
  {
   "cell_type": "markdown",
   "id": "7c3fe922",
   "metadata": {},
   "source": [
    "### Execute the algorithm to find the solution"
   ]
  },
  {
   "cell_type": "code",
   "execution_count": 102,
   "id": "6639e54c",
   "metadata": {},
   "outputs": [],
   "source": [
    "Q, policy = td_sarsa_control(non_terminal_states=non_terminal_states,\n",
    "                 terminal_states=terminal_states,\n",
    "                 initial_states=initial_states,\n",
    "                 actions=actions,\n",
    "                 next_step_fn=next_step_static_wind,\n",
    "                 gamma=1.0,\n",
    "                 alpha=0.2,\n",
    "                 epsilon=0.1,\n",
    "                 num_episodes=1500,\n",
    "                 initial_Q=initial_Q)"
   ]
  },
  {
   "cell_type": "markdown",
   "id": "37cab55e",
   "metadata": {},
   "source": [
    "### Find the optimal path"
   ]
  },
  {
   "cell_type": "code",
   "execution_count": 103,
   "id": "31c6f0b4",
   "metadata": {},
   "outputs": [],
   "source": [
    "state = initial_states[0]\n",
    "actions_optimal_path = []\n",
    "states_optimal_path = [state]\n",
    "while state not in terminal_states:\n",
    "    action = policy[state]\n",
    "    actions_optimal_path.append(action)\n",
    "    state = next_step_static_wind(state, action)[0]\n",
    "    states_optimal_path.append(state)"
   ]
  },
  {
   "cell_type": "markdown",
   "id": "1a66528c",
   "metadata": {},
   "source": [
    "### Create the solution plot"
   ]
  },
  {
   "cell_type": "code",
   "execution_count": 104,
   "id": "ab5d6807",
   "metadata": {},
   "outputs": [
    {
     "data": {
      "image/png": "[encoded data removed]",
      "text/plain": [
       "<Figure size 1200x800 with 1 Axes>"
      ]
     },
     "metadata": {},
     "output_type": "display_data"
    }
   ],
   "source": [
    "import matplotlib.pyplot as plt\n",
    "from matplotlib.lines import Line2D\n",
    "\n",
    "# Crear el gráfico\n",
    "fig, ax = plt.subplots(figsize=(12, 8))\n",
    "\n",
    "# Mostrar el grid (sin la fila del viento)\n",
    "ax.imshow(gridworld[:12, :], cmap=\"Greys\", origin=\"upper\")\n",
    "\n",
    "# Coordenadas del camino\n",
    "path_coords = [s[0] for s in states_optimal_path]\n",
    "x_coords = [s[1] for s in path_coords]\n",
    "y_coords = [s[0] for s in path_coords]\n",
    "\n",
    "# Dibujar el camino óptimo\n",
    "ax.plot(x_coords, y_coords, marker='o', color='blue', label='Optimal Path')\n",
    "\n",
    "# Añadir flechas amarillas (acciones)\n",
    "for i in range(len(path_coords) - 1):\n",
    "    current = path_coords[i]\n",
    "    next_ = path_coords[i + 1]\n",
    "    action = actions_optimal_path[i]  # Asume strings: 'up', 'down', 'left', 'right'\n",
    "\n",
    "    # Posición intermedia entre estados\n",
    "    x_mid = (current[1] + next_[1]) / 2\n",
    "    y_mid = (current[0] + next_[0]) / 2\n",
    "\n",
    "    ax.text(x_mid, y_mid, {\n",
    "        'up': '↑',\n",
    "        'down': '↓',\n",
    "        'left': '←',\n",
    "        'right': '→'\n",
    "    }.get(action, '?'), fontsize=12, ha='center', va='center', color='gold', fontweight='bold')\n",
    "\n",
    "# Estado inicial y final\n",
    "initial_state = path_coords[0]\n",
    "terminal_state = path_coords[-1]\n",
    "ax.plot(initial_state[1], initial_state[0], marker='s', color='green', markersize=10, label='Initial State')\n",
    "ax.plot(terminal_state[1], terminal_state[0], marker='*', color='red', markersize=12, label='Terminal State')\n",
    "\n",
    "# Dibujar el viento debajo de la última fila visible\n",
    "for col, wind in enumerate(gridworld[-1]):\n",
    "    ax.text(col, gridworld.shape[0] - 1 + 0.3, f\"↑{wind}\", ha='center', va='bottom', fontsize=10, color='black')\n",
    "\n",
    "# Leyenda para flechas de acciones\n",
    "legend_elements = [\n",
    "    Line2D([0], [0], color='gold', lw=0, marker='$↑$', label='Action: up'),\n",
    "    Line2D([0], [0], color='gold', lw=0, marker='$↓$', label='Action: down'),\n",
    "    Line2D([0], [0], color='gold', lw=0, marker='$←$', label='Action: left'),\n",
    "    Line2D([0], [0], color='gold', lw=0, marker='$→$', label='Action: right'),\n",
    "]\n",
    "\n",
    "# Ajustes visuales\n",
    "ax.set_xticks(np.arange(gridworld.shape[1]))\n",
    "ax.set_yticks(np.arange(gridworld.shape[0] - 1))\n",
    "ax.grid(True, color='black', linewidth=0.5)\n",
    "ax.set_title(\"Gridworld with Wind and Optimal Path\")\n",
    "ax.legend(loc='lower right')\n",
    "# Añadir leyenda de flechas\n",
    "ax.legend(handles=legend_elements + ax.get_legend_handles_labels()[0], loc='upper left', title='Legend')\n",
    "plt.tight_layout()\n",
    "plt.show()"
   ]
  },
  {
   "cell_type": "markdown",
   "id": "d4ac75fd",
   "metadata": {},
   "source": [
    "## Windy Gridworld with King's Moves\n",
    "\n",
    "Re-solve the windy gridworld assuming eight possible actions, including the diagonal moves, rather tha four."
   ]
  },
  {
   "cell_type": "code",
   "execution_count": 105,
   "id": "e8afa05a",
   "metadata": {},
   "outputs": [],
   "source": [
    "from TD_methods import td_sarsa_control\n",
    "import numpy as np"
   ]
  },
  {
   "cell_type": "code",
   "execution_count": 106,
   "id": "f9d5ab14",
   "metadata": {},
   "outputs": [],
   "source": [
    "# Let's create just the gridworld\n",
    "gridworld = np.array([\n",
    "    [0, 0, 0, 0, 0, 0, 0, 0, 0, 0, 0, 0],\n",
    "    [0, 0, 0, 0, 0, 0, 0, 0, 0, 0, 0, 0],\n",
    "    [0, 0, 0, 0, 0, 0, 0, 0, 0, 0, 0, 0],\n",
    "    [0, 1, 1, 1, 1, 1, 1, 1, 1, 1, 1, 0],\n",
    "    [0, 1, 1, 1, 1, 1, 1, 1, 1, 1, 1, 0],\n",
    "    [0, 1, 1, 1, 1, 1, 1, 1, 1, 1, 1, 0],\n",
    "    [0, 2, 1, 1, 1, 1, 1, 1, 3, 1, 1, 0],\n",
    "    [0, 1, 1, 1, 1, 1, 1, 1, 1, 1, 1, 0],\n",
    "    [0, 1, 1, 1, 1, 1, 1, 1, 1, 1, 1, 0],\n",
    "    [0, 1, 1, 1, 1, 1, 1, 1, 1, 1, 1, 0],\n",
    "    [0, 0, 0, 0, 0, 0, 0, 0, 0, 0, 0, 0],\n",
    "    [0, 0, 0, 0, 0, 0, 0, 0, 0, 0, 0, 0],\n",
    "    [0, 0, 0, 0, 1, 1, 1, 2, 2, 1, 0, 0] # This row represents the wind in each column\n",
    "])"
   ]
  },
  {
   "cell_type": "code",
   "execution_count": 107,
   "id": "fc15c80f",
   "metadata": {},
   "outputs": [],
   "source": [
    "n, m = gridworld.shape"
   ]
  },
  {
   "cell_type": "code",
   "execution_count": 108,
   "id": "c6a77f92",
   "metadata": {},
   "outputs": [],
   "source": [
    "non_terminal_states=[]\n",
    "terminal_states=[]\n",
    "initial_states=[]\n",
    "for i in range(n-1):\n",
    "    for j in range(m):\n",
    "        if gridworld[i, j] != 0:\n",
    "            if gridworld[i, j] == 1:\n",
    "                non_terminal_states.append(((i, j), gridworld[n-1, j]))\n",
    "            elif gridworld[i, j] == 2:\n",
    "                initial_states.append(((i, j), gridworld[n-1, j]))\n",
    "                non_terminal_states.append(((i, j), gridworld[n-1, j]))\n",
    "            else:\n",
    "                terminal_states.append(((i, j), gridworld[n-1, j]))"
   ]
  },
  {
   "cell_type": "markdown",
   "id": "997f4874",
   "metadata": {},
   "source": [
    "Here we have to make our first change. We have to consider all 8 actions in each state:"
   ]
  },
  {
   "cell_type": "code",
   "execution_count": 109,
   "id": "b97a5376",
   "metadata": {},
   "outputs": [],
   "source": [
    "actions={}\n",
    "states = non_terminal_states + terminal_states\n",
    "for state in states:\n",
    "    actions[state] = [action for action in ['up', 'down', 'right', 'left', 'diag_up_right', 'diag_up_left', 'diag_down_right', 'diag_down_left']]"
   ]
  },
  {
   "cell_type": "code",
   "execution_count": 110,
   "id": "55c78fd8",
   "metadata": {},
   "outputs": [],
   "source": [
    "def next_step_static_wind_king_moves(state, action):\n",
    "    \"\"\"\n",
    "    Simula un paso en el gridworld con viento.\n",
    "    Primero aplica la acción, y luego aplica el viento hacia arriba, \n",
    "    desplazándose lo más posible hasta encontrar una pared.\n",
    "    \"\"\"\n",
    "    def is_valid(position):\n",
    "        i, j = position\n",
    "        if 0 <= i < gridworld.shape[0] and 0 <= j < gridworld.shape[1]:\n",
    "            return gridworld[i, j] != 0\n",
    "        return False\n",
    "\n",
    "    i, j = state[0]\n",
    "    wind = state[1]\n",
    "\n",
    "    # Aplica acción\n",
    "    if action == 'up':\n",
    "        i2, j2 = i - 1, j\n",
    "    elif action == 'down':\n",
    "        i2, j2 = i + 1, j\n",
    "    elif action == 'right':\n",
    "        i2, j2 = i, j + 1\n",
    "    elif action == 'left':\n",
    "        i2, j2 = i, j - 1\n",
    "    elif action == 'diag_up_right':\n",
    "        i2, j2 = i - 1, j + 1\n",
    "    elif action == 'diag_up_left':\n",
    "        i2, j2 = i - 1, j - 1\n",
    "    elif action == 'diag_down_right':\n",
    "        i2, j2 = i + 1, j + 1\n",
    "    elif action == 'diag_down_left':\n",
    "        i2, j2 = i + 1, j - 1  \n",
    "    else:\n",
    "        raise ValueError(\"Acción inválida\")\n",
    "\n",
    "    # Verifica si el movimiento por acción es válido\n",
    "    if not is_valid((i2, j2)):\n",
    "        return (state, -1)\n",
    "\n",
    "    # Aplica el viento hacia arriba, paso a paso\n",
    "    for _ in range(wind):\n",
    "        if is_valid((i2 - 1, j2)):\n",
    "            i2 -= 1\n",
    "        else:\n",
    "            break  # Se choca con la pared y se detiene\n",
    "\n",
    "    new_state = ((i2, j2), gridworld[-1, j2])\n",
    "    return (new_state, -1)"
   ]
  },
  {
   "cell_type": "code",
   "execution_count": 111,
   "id": "4f77b064",
   "metadata": {},
   "outputs": [],
   "source": [
    "initial_Q = {}\n",
    "for s in states:\n",
    "    initial_Q[s] = {}\n",
    "    for a in actions[s]:\n",
    "        initial_Q[s][a] = 0"
   ]
  },
  {
   "cell_type": "markdown",
   "id": "ade89f52",
   "metadata": {},
   "source": [
    "### Execute the algorithm to find the solution"
   ]
  },
  {
   "cell_type": "code",
   "execution_count": 121,
   "id": "c94933f8",
   "metadata": {},
   "outputs": [],
   "source": [
    "Q, policy = td_sarsa_control(non_terminal_states=non_terminal_states,\n",
    "                 terminal_states=terminal_states,\n",
    "                 initial_states=initial_states,\n",
    "                 actions=actions,\n",
    "                 next_step_fn=next_step_static_wind_king_moves,\n",
    "                 gamma=1.0,\n",
    "                 alpha=0.2,\n",
    "                 epsilon=None,\n",
    "                 num_episodes=1000,\n",
    "                 initial_Q=initial_Q)"
   ]
  },
  {
   "cell_type": "markdown",
   "id": "031b17e1",
   "metadata": {},
   "source": [
    "### Find the optimal path"
   ]
  },
  {
   "cell_type": "code",
   "execution_count": 122,
   "id": "384c6d0f",
   "metadata": {},
   "outputs": [],
   "source": [
    "state = initial_states[0]\n",
    "actions_optimal_path = []\n",
    "states_optimal_path = [state]\n",
    "while state not in terminal_states:\n",
    "    action = policy[state]\n",
    "    actions_optimal_path.append(action)\n",
    "    state = next_step_static_wind_king_moves(state, action)[0]\n",
    "    states_optimal_path.append(state)"
   ]
  },
  {
   "cell_type": "markdown",
   "id": "81d828a1",
   "metadata": {},
   "source": [
    "### Create the solution plot"
   ]
  },
  {
   "cell_type": "code",
   "execution_count": 123,
   "id": "e72815c5",
   "metadata": {},
   "outputs": [
    {
     "data": {
      "image/png": "[encoded data removed]",
      "text/plain": [
       "<Figure size 1200x800 with 1 Axes>"
      ]
     },
     "metadata": {},
     "output_type": "display_data"
    }
   ],
   "source": [
    "import matplotlib.pyplot as plt\n",
    "from matplotlib.lines import Line2D\n",
    "\n",
    "# Crear leyenda personalizada para las flechas\n",
    "legend_elements = [\n",
    "    Line2D([0], [0], color='gold', lw=0, marker='$↑$', label='up'),\n",
    "    Line2D([0], [0], color='gold', lw=0, marker='$↓$', label='down'),\n",
    "    Line2D([0], [0], color='gold', lw=0, marker='$←$', label='left'),\n",
    "    Line2D([0], [0], color='gold', lw=0, marker='$→$', label='right'),\n",
    "    Line2D([0], [0], color='gold', lw=0, marker='$↖$', label='up-left'),\n",
    "    Line2D([0], [0], color='gold', lw=0, marker='$↗$', label='up-right'),\n",
    "    Line2D([0], [0], color='gold', lw=0, marker='$↙$', label='down-left'),\n",
    "    Line2D([0], [0], color='gold', lw=0, marker='$↘$', label='down-right'),\n",
    "]\n",
    "\n",
    "# Crear el gráfico\n",
    "fig, ax = plt.subplots(figsize=(12, 8))\n",
    "\n",
    "# Mostrar el grid (sin la fila del viento)\n",
    "ax.imshow(gridworld[:12, :], cmap=\"Greys\", origin=\"upper\")\n",
    "\n",
    "# Coordenadas del camino\n",
    "path_coords = [s[0] for s in states_optimal_path]\n",
    "x_coords = [s[1] for s in path_coords]\n",
    "y_coords = [s[0] for s in path_coords]\n",
    "\n",
    "# Dibujar el camino óptimo\n",
    "ax.plot(x_coords, y_coords, marker='o', color='blue', label='Optimal Path')\n",
    "\n",
    "# DICCIONARIO: acciones como texto o flechas\n",
    "action_symbols = {\n",
    "    'up': '↑',\n",
    "    'down': '↓',\n",
    "    'left': '←',\n",
    "    'right': '→',\n",
    "    'diag_up_left': '↖',\n",
    "    'diag_up_right': '↗',\n",
    "    'diag_down_left': '↙',\n",
    "    'diag_down_right': '↘'\n",
    "}\n",
    "\n",
    "# Añadir etiquetas de acción en cada transición\n",
    "for i in range(len(path_coords) - 1):\n",
    "    current = path_coords[i]\n",
    "    next_ = path_coords[i + 1]\n",
    "    action = actions_optimal_path[i]  # acción como string\n",
    "    symbol = action_symbols.get(action, '?')\n",
    "\n",
    "    # Posición intermedia entre los dos estados\n",
    "    x_mid = (current[1] + next_[1]) / 2\n",
    "    y_mid = (current[0] + next_[0]) / 2\n",
    "\n",
    "    ax.text(x_mid, y_mid, symbol, fontsize=12, ha='center', va='center', color='gold', fontweight='bold')\n",
    "\n",
    "# Estado inicial y final\n",
    "initial_state = path_coords[0]\n",
    "terminal_state = path_coords[-1]\n",
    "ax.plot(initial_state[1], initial_state[0], marker='s', color='green', markersize=10, label='Initial State')\n",
    "ax.plot(terminal_state[1], terminal_state[0], marker='*', color='red', markersize=12, label='Terminal State')\n",
    "\n",
    "# Dibujar el viento debajo de la última fila visible\n",
    "for col, wind in enumerate(gridworld[-1]):\n",
    "    ax.text(col, gridworld.shape[0] - 1 + 0.3, f\"↑{wind}\", ha='center', va='bottom', fontsize=10, color='black')\n",
    "\n",
    "# Ajustes visuales\n",
    "ax.set_xticks(np.arange(gridworld.shape[1]))\n",
    "ax.set_yticks(np.arange(gridworld.shape[0] - 1))\n",
    "ax.grid(True, color='black', linewidth=0.5)\n",
    "ax.set_title(\"Gridworld with Wind and Optimal Path\")\n",
    "ax.legend(loc='lower right')\n",
    "# Añadir leyenda de flechas\n",
    "ax.legend(handles=legend_elements + ax.get_legend_handles_labels()[0], loc='upper left', title='Legend')\n",
    "plt.tight_layout()\n",
    "plt.show()"
   ]
  }
 ],
 "metadata": {
  "kernelspec": {
   "display_name": "rl",
   "language": "python",
   "name": "python3"
  },
  "language_info": {
   "codemirror_mode": {
    "name": "ipython",
    "version": 3
   },
   "file_extension": ".py",
   "mimetype": "text/x-python",
   "name": "python",
   "nbconvert_exporter": "python",
   "pygments_lexer": "ipython3",
   "version": "3.11.13"
  }
 },
 "nbformat": 4,
 "nbformat_minor": 5
}
