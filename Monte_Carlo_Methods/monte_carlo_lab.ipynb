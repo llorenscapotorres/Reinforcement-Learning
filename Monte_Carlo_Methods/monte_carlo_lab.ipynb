{
 "cells": [
  {
   "cell_type": "code",
   "execution_count": 1,
   "id": "6f88c24c",
   "metadata": {},
   "outputs": [],
   "source": [
    "import pandas as pd\n",
    "import numpy as np\n",
    "import matplotlib.pyplot as plt\n",
    "from MC_methods import first_visit_mc_policy_evaluation"
   ]
  },
  {
   "cell_type": "markdown",
   "id": "0e8eac83",
   "metadata": {},
   "source": [
    "## Blackjack\n",
    "\n",
    "The object of the popular casino card game of *blackjack* is to obtain cards the sum of whose numerical values is as great as possible without exceeding 21. All face cards count as 10, and an ace can count either as 1 or as 11. The game begins with two cards dealt to both dealer and player. One of the dealer’s cards is face up and the other is face down. If the player has 21 immediately (an ace and a 10-card), it is called a natural. He then wins unless the dealer also has a natural, in which case the game is a draw. If the player does not have a natural, then he can request additional cards, one by one (hits), until he either stops (sticks) or exceeds 21 (goes bust). If he goe bust, he loses; if he sticks, then it becomes the dealer’s turn. The dealer hits or sticks according to a fixed strategy without choice: he sticks on any sum of 17 or greater, and hits otherwise. If the dealer goes bust, then the player wins; otherwise, the outcome—win, lose, or draw—is determined by whose final sum is closer to 21.\n",
    "\n",
    "Playing blackjack is naturally formulated as an episodic finite MDP. Each game of blackjack is an episode. Rewards of +1, -1, and 0 are given for winning, losing, and drawing, respectively. All rewards within a game are zero, and we do not discount ($\\gamma$ = 1); therefore these terminal rewards are also the returns. The player’s actions are to hit or to stick. The states depend on the player’s cards and the dealer’s showing card. We assume that cards are dealt from an infinite deck (i.e., with replacement) so that there is no advantage to keeping track of the cards already dealt. If the player holds an ace that he could count as 11 without going bust, then the ace is said to be usable. In this case it is always counted as 11 because counting it as 1 would make the sum 11 or less, in which case there is no decision to be made because, obviously, the player should always hit. Thus, the player makes decisions on the basis of three variables: his current sum (12–21), the dealer’s one showing card (ace–10), and whether or not he holds a usable ace.\n",
    "\n",
    "Consider the policy that sticks if the player’s sum is 20 or 21, and otherwise hits."
   ]
  },
  {
   "cell_type": "code",
   "execution_count": 2,
   "id": "7f52565b",
   "metadata": {},
   "outputs": [],
   "source": [
    "# Create states and policy\n",
    "states = []\n",
    "for sum_player in range(12, 22):\n",
    "    for sum_dealer in range(1, 11):\n",
    "        for usable_ace in [True, False]:\n",
    "            state = (sum_player, sum_dealer, usable_ace)\n",
    "            states.append(state)\n",
    "\n",
    "ACTIONS = ['hits', 'sticks']\n",
    "policy = {}\n",
    "for s in states:\n",
    "    if s[0] >= 20:\n",
    "        policy[s] = ACTIONS[1]\n",
    "    else:\n",
    "        policy[s] = ACTIONS[0]"
   ]
  },
  {
   "cell_type": "code",
   "execution_count": 3,
   "id": "2bb5b26c",
   "metadata": {},
   "outputs": [],
   "source": [
    "# Create the function to generate an episoed: a list of (state, action, reward)\n",
    "def generate_episode_blackjack(policy: dict):\n",
    "    \"\"\"\n",
    "    Returns:\n",
    "        episode: a list of (state, action, reward) tuples.\n",
    "    \"\"\"\n",
    "\n",
    "    def draw_card():\n",
    "        card = np.random.randint(1, 14)\n",
    "        return min(card, 10)\n",
    "    \n",
    "    def draw_hand():\n",
    "        return [draw_card(), draw_card()]\n",
    "    \n",
    "    def usable_ace(hand: list):\n",
    "        return 1 in hand and sum(hand) + 11 <= 21\n",
    "    \n",
    "    def sum_hand(hand: list):\n",
    "        total = sum(hand)\n",
    "        if 1 in hand and total + 11 <= 21:\n",
    "            return total + 11\n",
    "        return total\n",
    "    \n",
    "    def is_bust(hand):\n",
    "        return sum_hand(hand) > 21\n",
    "    \n",
    "    def dealer_policy(dealer_hand):\n",
    "        while sum_hand(dealer_hand) < 17:\n",
    "            dealer_hand.append(draw_card())\n",
    "        return dealer_hand\n",
    "    \n",
    "    # Initialize the game\n",
    "    player_hand = draw_hand()\n",
    "    dealer_hand = draw_hand()\n",
    "    dealer_showing = dealer_hand[0]\n",
    "\n",
    "    episode = []\n",
    "\n",
    "    while sum_hand(player_hand) < 12:\n",
    "        player_hand.append(draw_card())\n",
    "    \n",
    "    while True:\n",
    "        player_sum = sum_hand(player_hand)\n",
    "        usable = usable_ace(player_hand)\n",
    "        state = (player_sum, dealer_showing, usable)\n",
    "\n",
    "        action = policy[state] if state in policy else ('sticks' if player_sum >= 20 else 'hits')\n",
    "\n",
    "        episode.append((state, action, 0))\n",
    "\n",
    "        if action == 'hits':\n",
    "            player_hand.append(draw_card())\n",
    "            if is_bust(player_hand):\n",
    "                episode.append(((sum_hand(player_hand), dealer_showing, usable_ace(player_hand)), None, -1))\n",
    "                return episode\n",
    "        \n",
    "        else:\n",
    "            break\n",
    "    \n",
    "    dealer_hand = dealer_policy(dealer_hand)\n",
    "\n",
    "    if is_bust(dealer_hand):\n",
    "        reward = 1\n",
    "    else:\n",
    "        player_total = sum_hand(player_hand)\n",
    "        dealer_total = sum_hand(dealer_hand)\n",
    "        if player_total > dealer_total:\n",
    "            reward = 1\n",
    "        elif player_total < dealer_total:\n",
    "            reward = -1\n",
    "        else:\n",
    "            reward = 0\n",
    "    \n",
    "    episode.append(((sum_hand(player_hand), dealer_showing, usable_ace(player_hand)), None, reward))\n",
    "    return episode"
   ]
  },
  {
   "cell_type": "code",
   "execution_count": 4,
   "id": "211eb823",
   "metadata": {},
   "outputs": [
    {
     "ename": "KeyError",
     "evalue": "(29, 10, False)",
     "output_type": "error",
     "traceback": [
      "\u001b[31m---------------------------------------------------------------------------\u001b[39m",
      "\u001b[31mKeyError\u001b[39m                                  Traceback (most recent call last)",
      "\u001b[36mCell\u001b[39m\u001b[36m \u001b[39m\u001b[32mIn[4]\u001b[39m\u001b[32m, line 2\u001b[39m\n\u001b[32m      1\u001b[39m \u001b[38;5;66;03m# Run the policy evaluation on the Blackjack example\u001b[39;00m\n\u001b[32m----> \u001b[39m\u001b[32m2\u001b[39m \u001b[43mfirst_visit_mc_policy_evaluation\u001b[49m\u001b[43m(\u001b[49m\u001b[43mstates\u001b[49m\u001b[43m=\u001b[49m\u001b[43mstates\u001b[49m\u001b[43m,\u001b[49m\n\u001b[32m      3\u001b[39m \u001b[43m                                 \u001b[49m\u001b[43mpolicy\u001b[49m\u001b[43m=\u001b[49m\u001b[43mpolicy\u001b[49m\u001b[43m,\u001b[49m\n\u001b[32m      4\u001b[39m \u001b[43m                                 \u001b[49m\u001b[43mgenerate_episode_fn\u001b[49m\u001b[43m=\u001b[49m\u001b[43mgenerate_episode_blackjack\u001b[49m\u001b[43m,\u001b[49m\n\u001b[32m      5\u001b[39m \u001b[43m                                 \u001b[49m\u001b[43mgamma\u001b[49m\u001b[43m=\u001b[49m\u001b[32;43m1\u001b[39;49m\u001b[43m,\u001b[49m\n\u001b[32m      6\u001b[39m \u001b[43m                                 \u001b[49m\u001b[43mnum_episodes\u001b[49m\u001b[43m=\u001b[49m\u001b[32;43m1000\u001b[39;49m\u001b[43m)\u001b[49m\n",
      "\u001b[36mFile \u001b[39m\u001b[32mc:\\Users\\Usuario\\Documents\\Reinforcement-Learning\\Monte_Carlo_Methods\\MC_methods.py:46\u001b[39m, in \u001b[36mfirst_visit_mc_policy_evaluation\u001b[39m\u001b[34m(states, policy, generate_episode_fn, gamma, num_episodes)\u001b[39m\n\u001b[32m     43\u001b[39m         G = gamma * G + reward \u001b[38;5;66;03m# accumulate discounted return\u001b[39;00m\n\u001b[32m     45\u001b[39m         \u001b[38;5;28;01mif\u001b[39;00m state \u001b[38;5;129;01mnot\u001b[39;00m \u001b[38;5;129;01min\u001b[39;00m visited_states:\n\u001b[32m---> \u001b[39m\u001b[32m46\u001b[39m             N[state] = \u001b[43mN\u001b[49m\u001b[43m[\u001b[49m\u001b[43mstate\u001b[49m\u001b[43m]\u001b[49m + \u001b[32m1\u001b[39m\n\u001b[32m     47\u001b[39m             V[state] = V[state] + (G - V[state]) / N[state]\n\u001b[32m     49\u001b[39m \u001b[38;5;28;01mreturn\u001b[39;00m V\n",
      "\u001b[31mKeyError\u001b[39m: (29, 10, False)"
     ]
    }
   ],
   "source": [
    "# Run the policy evaluation on the Blackjack example\n",
    "first_visit_mc_policy_evaluation(states=states,\n",
    "                                 policy=policy,\n",
    "                                 generate_episode_fn=generate_episode_blackjack,\n",
    "                                 gamma=1,\n",
    "                                 num_episodes=1000)"
   ]
  },
  {
   "cell_type": "markdown",
   "id": "397e56f8",
   "metadata": {},
   "source": [
    "## Blackjack ES\n",
    "\n",
    "We now want to seek the optimal policy."
   ]
  },
  {
   "cell_type": "code",
   "execution_count": null,
   "id": "9e3e3a51",
   "metadata": {},
   "outputs": [],
   "source": [
    "import numpy as np\n",
    "import matplotlib.pyplot as plt\n",
    "from MC_methods import mc_control_es"
   ]
  },
  {
   "cell_type": "code",
   "execution_count": null,
   "id": "6c8a7c78",
   "metadata": {},
   "outputs": [
    {
     "data": {
      "text/plain": [
       "200"
      ]
     },
     "execution_count": 2,
     "metadata": {},
     "output_type": "execute_result"
    }
   ],
   "source": [
    "# Creamos la lista de states\n",
    "states = []\n",
    "for s in range(12, 22):\n",
    "    for d in range(1, 11):\n",
    "        for usable in [True, False]:\n",
    "            states.append((s, d, usable))\n",
    "len(states)"
   ]
  },
  {
   "cell_type": "code",
   "execution_count": null,
   "id": "8664f71a",
   "metadata": {},
   "outputs": [
    {
     "data": {
      "text/plain": [
       "100"
      ]
     },
     "execution_count": 3,
     "metadata": {},
     "output_type": "execute_result"
    }
   ],
   "source": [
    "states_without_usable_ace = []\n",
    "for s in range(12, 22):\n",
    "    for d in range(1, 11):\n",
    "        states_without_usable_ace.append((s, d))\n",
    "len(states_without_usable_ace)"
   ]
  },
  {
   "cell_type": "code",
   "execution_count": null,
   "id": "227e23a6",
   "metadata": {},
   "outputs": [
    {
     "data": {
      "text/plain": [
       "200"
      ]
     },
     "execution_count": 4,
     "metadata": {},
     "output_type": "execute_result"
    }
   ],
   "source": [
    "# Creamos el diccionario de acciones\n",
    "ACTIONS = ['hits', 'sticks']\n",
    "actions = {}\n",
    "for s in states:\n",
    "    actions[s] = ACTIONS\n",
    "len(actions)"
   ]
  },
  {
   "cell_type": "code",
   "execution_count": null,
   "id": "cbf0c17c",
   "metadata": {},
   "outputs": [
    {
     "data": {
      "text/plain": [
       "100"
      ]
     },
     "execution_count": 5,
     "metadata": {},
     "output_type": "execute_result"
    }
   ],
   "source": [
    "# Creamos el diccionario de acciones\n",
    "actions_without_usable_ace = {}\n",
    "for s in states_without_usable_ace:\n",
    "    actions_without_usable_ace[s] = ACTIONS\n",
    "len(actions_without_usable_ace)"
   ]
  },
  {
   "cell_type": "code",
   "execution_count": null,
   "id": "1b8290cc",
   "metadata": {},
   "outputs": [],
   "source": [
    "# Creamos la función para generar episodios\n",
    "def generate_episode_es_blackjack(initial_state: tuple, \n",
    "                                  initial_action: str, \n",
    "                                  policy: dict):\n",
    "    \"\"\"\n",
    "    inital_state: (player_sum, showing_dealer_card, usable_ace)\n",
    "    initial_action: string --> 'hits' or 'sticks'\n",
    "    policy: dict\n",
    "\n",
    "    Devuelve una lista de tuplas [(s0, a0, r1), (s1, a1, r2), ..., (sT-1, aT-1, rT)]\n",
    "    \"\"\"\n",
    "\n",
    "    # Mano del dealer\n",
    "    dealer_usable_ace = False\n",
    "    showing_dealer_card = initial_state[1]\n",
    "    if showing_dealer_card == 1:\n",
    "        showing_dealer_card == 11\n",
    "        dealer_usable_ace = True\n",
    "    card_dealer = np.random.randint(1, 14)\n",
    "    if card_dealer > 10:\n",
    "        card_dealer = 10\n",
    "    if (card_dealer == 1) and (showing_dealer_card + 11 <= 21):\n",
    "        card_dealer = 11\n",
    "        dealer_usable_ace = True\n",
    "    sum_dealer = showing_dealer_card + card_dealer\n",
    "    \n",
    "    # Función auxiliar para crear la policy del dealer\n",
    "    def policy_dealer(sum_dealer: int, dealer_usable_ace: bool):\n",
    "        if sum_dealer >= 17:\n",
    "            return sum_dealer\n",
    "        else:\n",
    "            card = np.random.randint(1, 14)\n",
    "            if card > 10:\n",
    "                card = 10\n",
    "\n",
    "            if (card == 1) and ((sum_dealer + 11) <= 21):\n",
    "                sum_dealer = sum_dealer + 11\n",
    "                dealer_usable_ace = True\n",
    "                return policy_dealer(sum_dealer, dealer_usable_ace)\n",
    "            elif (sum_dealer + card > 21) and (dealer_usable_ace == True):\n",
    "                sum_dealer = sum_dealer + card - 10\n",
    "                dealer_usable_ace = False\n",
    "                return policy_dealer(sum_dealer, dealer_usable_ace)\n",
    "            elif (sum_dealer + card > 21) and (dealer_usable_ace == False):\n",
    "                return sum_dealer + card\n",
    "            return policy_dealer(sum_dealer + card, dealer_usable_ace)\n",
    "\n",
    "    # Inicializamos la lista de los steps del episodio\n",
    "    episodio = []\n",
    "    reward = 0\n",
    "    # Si la acción es hits el dealer nos dará una carta\n",
    "    if initial_action == 'hits':\n",
    "        card = np.random.randint(1, 14)\n",
    "        if card > 10:\n",
    "            card = 10\n",
    "        next_state = (initial_state[0] + card, initial_state[1], initial_state[2])\n",
    "        # Calculamos la reward\n",
    "        if (next_state[0] > 21) and (next_state[2] == False):\n",
    "            reward = -1\n",
    "            episodio.append((initial_state, initial_action, reward))\n",
    "            return episodio\n",
    "        elif (next_state[0] > 21) and (next_state[2] == True):\n",
    "            next_state = (next_state[0] - 10, next_state[1], False)\n",
    "            episodio.append((initial_state, initial_action, 0))\n",
    "        episodio.append((initial_state, initial_action, 0))\n",
    "    else:\n",
    "        total_sum_dealer = policy_dealer(sum_dealer, dealer_usable_ace)\n",
    "        if total_sum_dealer > 21:\n",
    "            reward = 1\n",
    "            episodio.append((initial_state, initial_action, reward))\n",
    "            return episodio\n",
    "        else:\n",
    "            if total_sum_dealer > initial_state[0]:\n",
    "                reward = -1\n",
    "                episodio.append((initial_state, initial_action, reward))\n",
    "                return episodio\n",
    "            elif total_sum_dealer == initial_state[0]:\n",
    "                episodio.append((initial_state, initial_action, reward))\n",
    "                return episodio\n",
    "            else:\n",
    "                reward = 1\n",
    "                episodio.append((initial_state, initial_action, reward))\n",
    "                return episodio\n",
    "\n",
    "    # Hay que seguir la policy\n",
    "    while True:\n",
    "        next_action = policy[next_state]\n",
    "        # Si la próxima acción es sticks se termina el juego\n",
    "        if next_action == 'sticks':\n",
    "            total_sum_dealer = policy_dealer(sum_dealer, dealer_usable_ace)\n",
    "            if total_sum_dealer > 21:\n",
    "                reward = 1\n",
    "                episodio.append((next_state, next_action, reward))\n",
    "                return episodio\n",
    "            else:\n",
    "                if total_sum_dealer > next_state[0]:\n",
    "                    reward = -1\n",
    "                    episodio.append((next_state, next_action, reward))\n",
    "                    return episodio\n",
    "                elif total_sum_dealer == next_state[0]:\n",
    "                    episodio.append((next_state, next_action, 0))\n",
    "                    return episodio\n",
    "                else:\n",
    "                    reward = 1\n",
    "                    episodio.append((next_state, next_action, reward))\n",
    "                    return episodio\n",
    "        else:\n",
    "            next_card = np.random.randint(1, 14)\n",
    "            if next_card > 10:\n",
    "                next_card = 10\n",
    "            # Calculamos la reward\n",
    "            next_player_sum = next_state[0] + next_card\n",
    "            if (next_player_sum > 21) and (next_state[2] == False):\n",
    "                reward = -1\n",
    "                episodio.append((next_state, next_action, -1))\n",
    "                return episodio\n",
    "            elif (next_player_sum > 21) and (next_state[2] == True):\n",
    "                episodio.append((next_state, next_action, 0))\n",
    "                next_state = (next_player_sum - 10, next_state[1], False)\n",
    "            else:\n",
    "                episodio.append((next_state, next_action, 0))\n",
    "                next_state = (next_player_sum, next_state[1], next_state[2])"
   ]
  },
  {
   "cell_type": "code",
   "execution_count": null,
   "id": "2d7fc746",
   "metadata": {},
   "outputs": [],
   "source": [
    "Q, policy = mc_control_es(states=states,\n",
    "              actions=actions,\n",
    "              generate_episode_es_fn=generate_episode_es_blackjack,\n",
    "              num_episodes=100000)"
   ]
  },
  {
   "cell_type": "code",
   "execution_count": null,
   "id": "e2395de8",
   "metadata": {},
   "outputs": [
    {
     "data": {
      "text/plain": [
       "{(12, 1, True): 'hits',\n",
       " (12, 1, False): 'hits',\n",
       " (12, 2, True): 'hits',\n",
       " (12, 2, False): 'hits',\n",
       " (12, 3, True): 'hits',\n",
       " (12, 3, False): 'sticks',\n",
       " (12, 4, True): 'hits',\n",
       " (12, 4, False): 'hits',\n",
       " (12, 5, True): 'hits',\n",
       " (12, 5, False): 'sticks',\n",
       " (12, 6, True): 'hits',\n",
       " (12, 6, False): 'hits',\n",
       " (12, 7, True): 'hits',\n",
       " (12, 7, False): 'hits',\n",
       " (12, 8, True): 'hits',\n",
       " (12, 8, False): 'hits',\n",
       " (12, 9, True): 'hits',\n",
       " (12, 9, False): 'hits',\n",
       " (12, 10, True): 'hits',\n",
       " (12, 10, False): 'hits',\n",
       " (13, 1, True): 'hits',\n",
       " (13, 1, False): 'hits',\n",
       " (13, 2, True): 'hits',\n",
       " (13, 2, False): 'hits',\n",
       " (13, 3, True): 'hits',\n",
       " (13, 3, False): 'sticks',\n",
       " (13, 4, True): 'hits',\n",
       " (13, 4, False): 'hits',\n",
       " (13, 5, True): 'hits',\n",
       " (13, 5, False): 'sticks',\n",
       " (13, 6, True): 'hits',\n",
       " (13, 6, False): 'sticks',\n",
       " (13, 7, True): 'hits',\n",
       " (13, 7, False): 'hits',\n",
       " (13, 8, True): 'hits',\n",
       " (13, 8, False): 'hits',\n",
       " (13, 9, True): 'hits',\n",
       " (13, 9, False): 'hits',\n",
       " (13, 10, True): 'hits',\n",
       " (13, 10, False): 'hits',\n",
       " (14, 1, True): 'hits',\n",
       " (14, 1, False): 'hits',\n",
       " (14, 2, True): 'hits',\n",
       " (14, 2, False): 'sticks',\n",
       " (14, 3, True): 'hits',\n",
       " (14, 3, False): 'sticks',\n",
       " (14, 4, True): 'hits',\n",
       " (14, 4, False): 'sticks',\n",
       " (14, 5, True): 'hits',\n",
       " (14, 5, False): 'sticks',\n",
       " (14, 6, True): 'hits',\n",
       " (14, 6, False): 'sticks',\n",
       " (14, 7, True): 'hits',\n",
       " (14, 7, False): 'hits',\n",
       " (14, 8, True): 'hits',\n",
       " (14, 8, False): 'hits',\n",
       " (14, 9, True): 'hits',\n",
       " (14, 9, False): 'hits',\n",
       " (14, 10, True): 'hits',\n",
       " (14, 10, False): 'hits',\n",
       " (15, 1, True): 'hits',\n",
       " (15, 1, False): 'hits',\n",
       " (15, 2, True): 'hits',\n",
       " (15, 2, False): 'sticks',\n",
       " (15, 3, True): 'hits',\n",
       " (15, 3, False): 'sticks',\n",
       " (15, 4, True): 'hits',\n",
       " (15, 4, False): 'sticks',\n",
       " (15, 5, True): 'hits',\n",
       " (15, 5, False): 'sticks',\n",
       " (15, 6, True): 'hits',\n",
       " (15, 6, False): 'sticks',\n",
       " (15, 7, True): 'hits',\n",
       " (15, 7, False): 'hits',\n",
       " (15, 8, True): 'hits',\n",
       " (15, 8, False): 'sticks',\n",
       " (15, 9, True): 'hits',\n",
       " (15, 9, False): 'hits',\n",
       " (15, 10, True): 'hits',\n",
       " (15, 10, False): 'sticks',\n",
       " (16, 1, True): 'hits',\n",
       " (16, 1, False): 'hits',\n",
       " (16, 2, True): 'hits',\n",
       " (16, 2, False): 'sticks',\n",
       " (16, 3, True): 'hits',\n",
       " (16, 3, False): 'sticks',\n",
       " (16, 4, True): 'hits',\n",
       " (16, 4, False): 'sticks',\n",
       " (16, 5, True): 'hits',\n",
       " (16, 5, False): 'sticks',\n",
       " (16, 6, True): 'hits',\n",
       " (16, 6, False): 'sticks',\n",
       " (16, 7, True): 'hits',\n",
       " (16, 7, False): 'hits',\n",
       " (16, 8, True): 'hits',\n",
       " (16, 8, False): 'hits',\n",
       " (16, 9, True): 'hits',\n",
       " (16, 9, False): 'sticks',\n",
       " (16, 10, True): 'hits',\n",
       " (16, 10, False): 'sticks',\n",
       " (17, 1, True): 'hits',\n",
       " (17, 1, False): 'sticks',\n",
       " (17, 2, True): 'hits',\n",
       " (17, 2, False): 'sticks',\n",
       " (17, 3, True): 'hits',\n",
       " (17, 3, False): 'sticks',\n",
       " (17, 4, True): 'hits',\n",
       " (17, 4, False): 'sticks',\n",
       " (17, 5, True): 'hits',\n",
       " (17, 5, False): 'sticks',\n",
       " (17, 6, True): 'hits',\n",
       " (17, 6, False): 'sticks',\n",
       " (17, 7, True): 'hits',\n",
       " (17, 7, False): 'sticks',\n",
       " (17, 8, True): 'hits',\n",
       " (17, 8, False): 'sticks',\n",
       " (17, 9, True): 'hits',\n",
       " (17, 9, False): 'sticks',\n",
       " (17, 10, True): 'hits',\n",
       " (17, 10, False): 'sticks',\n",
       " (18, 1, True): 'sticks',\n",
       " (18, 1, False): 'sticks',\n",
       " (18, 2, True): 'sticks',\n",
       " (18, 2, False): 'sticks',\n",
       " (18, 3, True): 'hits',\n",
       " (18, 3, False): 'sticks',\n",
       " (18, 4, True): 'hits',\n",
       " (18, 4, False): 'sticks',\n",
       " (18, 5, True): 'sticks',\n",
       " (18, 5, False): 'sticks',\n",
       " (18, 6, True): 'sticks',\n",
       " (18, 6, False): 'sticks',\n",
       " (18, 7, True): 'sticks',\n",
       " (18, 7, False): 'sticks',\n",
       " (18, 8, True): 'sticks',\n",
       " (18, 8, False): 'sticks',\n",
       " (18, 9, True): 'hits',\n",
       " (18, 9, False): 'sticks',\n",
       " (18, 10, True): 'hits',\n",
       " (18, 10, False): 'sticks',\n",
       " (19, 1, True): 'sticks',\n",
       " (19, 1, False): 'sticks',\n",
       " (19, 2, True): 'sticks',\n",
       " (19, 2, False): 'sticks',\n",
       " (19, 3, True): 'sticks',\n",
       " (19, 3, False): 'sticks',\n",
       " (19, 4, True): 'sticks',\n",
       " (19, 4, False): 'sticks',\n",
       " (19, 5, True): 'sticks',\n",
       " (19, 5, False): 'sticks',\n",
       " (19, 6, True): 'sticks',\n",
       " (19, 6, False): 'sticks',\n",
       " (19, 7, True): 'sticks',\n",
       " (19, 7, False): 'sticks',\n",
       " (19, 8, True): 'sticks',\n",
       " (19, 8, False): 'sticks',\n",
       " (19, 9, True): 'sticks',\n",
       " (19, 9, False): 'sticks',\n",
       " (19, 10, True): 'sticks',\n",
       " (19, 10, False): 'sticks',\n",
       " (20, 1, True): 'sticks',\n",
       " (20, 1, False): 'sticks',\n",
       " (20, 2, True): 'sticks',\n",
       " (20, 2, False): 'sticks',\n",
       " (20, 3, True): 'sticks',\n",
       " (20, 3, False): 'sticks',\n",
       " (20, 4, True): 'sticks',\n",
       " (20, 4, False): 'sticks',\n",
       " (20, 5, True): 'sticks',\n",
       " (20, 5, False): 'sticks',\n",
       " (20, 6, True): 'sticks',\n",
       " (20, 6, False): 'sticks',\n",
       " (20, 7, True): 'sticks',\n",
       " (20, 7, False): 'sticks',\n",
       " (20, 8, True): 'sticks',\n",
       " (20, 8, False): 'sticks',\n",
       " (20, 9, True): 'sticks',\n",
       " (20, 9, False): 'sticks',\n",
       " (20, 10, True): 'sticks',\n",
       " (20, 10, False): 'sticks',\n",
       " (21, 1, True): 'sticks',\n",
       " (21, 1, False): 'sticks',\n",
       " (21, 2, True): 'sticks',\n",
       " (21, 2, False): 'sticks',\n",
       " (21, 3, True): 'sticks',\n",
       " (21, 3, False): 'sticks',\n",
       " (21, 4, True): 'sticks',\n",
       " (21, 4, False): 'sticks',\n",
       " (21, 5, True): 'sticks',\n",
       " (21, 5, False): 'sticks',\n",
       " (21, 6, True): 'sticks',\n",
       " (21, 6, False): 'sticks',\n",
       " (21, 7, True): 'sticks',\n",
       " (21, 7, False): 'sticks',\n",
       " (21, 8, True): 'sticks',\n",
       " (21, 8, False): 'sticks',\n",
       " (21, 9, True): 'sticks',\n",
       " (21, 9, False): 'sticks',\n",
       " (21, 10, True): 'sticks',\n",
       " (21, 10, False): 'sticks'}"
      ]
     },
     "execution_count": 29,
     "metadata": {},
     "output_type": "execute_result"
    }
   ],
   "source": [
    "policy"
   ]
  },
  {
   "cell_type": "markdown",
   "id": "d27e0e89",
   "metadata": {},
   "source": [
    "## Racetrack\n",
    "\n",
    "Consider driving a race car around a turn. You want to go as fast as possible, but not so fast as to run off the track. In our simplified racetrack, the car is at one of a discrete set of grid positions. The velocity is also discrete, a number of grid cells moved horizonatlly and vertically per time step. The actions are increments to the velocity components. Each may be changed  by +1, -1, or 0 in each step, for a total of nine (3 x 3) actions. Both velocity components are restricted to be nonnegative and less than 5, and they cannot both be zero except at the starting line. \n",
    "\n",
    "The rewards are -1 for each step until the car crosses the finish line. If the car hits the track boundary, it is moved back to a random position on the starting line, both velocity components are reduced to zero, and the episode continues.\n",
    "\n",
    "Before updating the car's location at each time step, check to see if the projected path of the car intersects the track boundary. If it intersects the finish line, the episode ends; if it interescts anywhere else, the car is considered to have hit the track boundary and is sent back to the starting line. To make the task more challenging, with probability 0.1 at each time step the velocity increments are both zero, independently of the intended increments."
   ]
  },
  {
   "cell_type": "code",
   "execution_count": 26,
   "id": "2bb24ddf",
   "metadata": {},
   "outputs": [],
   "source": [
    "import numpy as np\n",
    "from MC_methods import mc_control_off_policy_every_visit"
   ]
  },
  {
   "cell_type": "markdown",
   "id": "4a30679f",
   "metadata": {},
   "source": [
    "Primero hay que crear el mapa o `track`."
   ]
  },
  {
   "cell_type": "code",
   "execution_count": 27,
   "id": "658d9d64",
   "metadata": {},
   "outputs": [],
   "source": [
    "track = np.array([\n",
    "    [0, 0, 0, 0, 0, 0, 0, 0, 0, 0, 0, 0, 0, 0, 0, 0, 0, 0, 0, 0, 0, 0, 0, 0, 0],\n",
    "    [0, 0, 0, 0, 1, 1, 1, 1, 1, 1, 1, 1, 1, 1, 1, 1, 1, 1, 1, 1, 1, 1, 1, 1, 3],\n",
    "    [0, 0, 0, 1, 1, 1, 1, 1, 1, 1, 1, 1, 1, 1, 1, 1, 1, 1, 1, 1, 1, 1, 1, 1, 3],\n",
    "    [0, 0, 0, 1, 1, 1, 1, 1, 1, 1, 1, 1, 1, 1, 1, 1, 1, 1, 1, 1, 1, 1, 1, 1, 3],\n",
    "    [0, 0, 1, 1, 1, 1, 1, 1, 1, 1, 1, 1, 1, 1, 1, 1, 1, 1, 1, 1, 1, 1, 1, 1, 3],\n",
    "    [0, 1, 1, 1, 1, 1, 1, 1, 1, 1, 1, 1, 1, 1, 1, 1, 1, 1, 1, 1, 1, 1, 1, 1, 3],\n",
    "    [0, 1, 1, 1, 1, 1, 1, 1, 1, 1, 1, 1, 1, 1, 1, 1, 1, 1, 1, 1, 1, 1, 1, 1, 3],\n",
    "    [0, 1, 1, 1, 1, 1, 1, 1, 1, 1, 1, 1, 1, 1, 1, 1, 0, 0, 0, 0, 0, 0, 0, 0, 0],\n",
    "    [0, 1, 1, 1, 1, 1, 1, 1, 1, 1, 1, 1, 1, 1, 1, 0, 0, 0, 0, 0, 0, 0, 0, 0, 0],\n",
    "    [0, 1, 1, 1, 1, 1, 1, 1, 1, 1, 1, 1, 1, 1, 1, 0, 0, 0, 0, 0, 0, 0, 0, 0, 0],\n",
    "    [0, 1, 1, 1, 1, 1, 1, 1, 1, 1, 1, 1, 1, 1, 1, 0, 0, 0, 0, 0, 0, 0, 0, 0, 0],\n",
    "    [0, 1, 1, 1, 1, 1, 1, 1, 1, 1, 1, 1, 1, 1, 1, 0, 0, 0, 0, 0, 0, 0, 0, 0, 0],\n",
    "    [0, 1, 1, 1, 1, 1, 1, 1, 1, 1, 1, 1, 1, 1, 1, 0, 0, 0, 0, 0, 0, 0, 0, 0, 0],\n",
    "    [0, 1, 1, 1, 1, 1, 1, 1, 1, 1, 1, 1, 1, 1, 1, 0, 0, 0, 0, 0, 0, 0, 0, 0, 0],\n",
    "    [0, 1, 1, 1, 1, 1, 1, 1, 1, 1, 1, 1, 1, 1, 1, 0, 0, 0, 0, 0, 0, 0, 0, 0, 0],\n",
    "    [0, 0, 1, 1, 1, 1, 1, 1, 1, 1, 1, 1, 1, 1, 1, 0, 0, 0, 0, 0, 0, 0, 0, 0, 0],\n",
    "    [0, 0, 1, 1, 1, 1, 1, 1, 1, 1, 1, 1, 1, 1, 1, 0, 0, 0, 0, 0, 0, 0, 0, 0, 0],\n",
    "    [0, 0, 1, 1, 1, 1, 1, 1, 1, 1, 1, 1, 1, 1, 1, 0, 0, 0, 0, 0, 0, 0, 0, 0, 0],\n",
    "    [0, 0, 1, 1, 1, 1, 1, 1, 1, 1, 1, 1, 1, 1, 1, 0, 0, 0, 0, 0, 0, 0, 0, 0, 0],\n",
    "    [0, 0, 1, 1, 1, 1, 1, 1, 1, 1, 1, 1, 1, 1, 1, 0, 0, 0, 0, 0, 0, 0, 0, 0, 0],\n",
    "    [0, 0, 1, 1, 1, 1, 1, 1, 1, 1, 1, 1, 1, 1, 1, 0, 0, 0, 0, 0, 0, 0, 0, 0, 0],\n",
    "    [0, 0, 1, 1, 1, 1, 1, 1, 1, 1, 1, 1, 1, 1, 1, 0, 0, 0, 0, 0, 0, 0, 0, 0, 0],\n",
    "    [0, 0, 0, 1, 1, 1, 1, 1, 1, 1, 1, 1, 1, 1, 1, 0, 0, 0, 0, 0, 0, 0, 0, 0, 0],\n",
    "    [0, 0, 0, 1, 1, 1, 1, 1, 1, 1, 1, 1, 1, 1, 1, 0, 0, 0, 0, 0, 0, 0, 0, 0, 0],\n",
    "    [0, 0, 0, 1, 1, 1, 1, 1, 1, 1, 1, 1, 1, 1, 1, 0, 0, 0, 0, 0, 0, 0, 0, 0, 0],\n",
    "    [0, 0, 0, 1, 1, 1, 1, 1, 1, 1, 1, 1, 1, 1, 1, 0, 0, 0, 0, 0, 0, 0, 0, 0, 0],\n",
    "    [0, 0, 0, 1, 1, 1, 1, 1, 1, 1, 1, 1, 1, 1, 1, 0, 0, 0, 0, 0, 0, 0, 0, 0, 0],\n",
    "    [0, 0, 0, 1, 1, 1, 1, 1, 1, 1, 1, 1, 1, 1, 1, 0, 0, 0, 0, 0, 0, 0, 0, 0, 0],\n",
    "    [0, 0, 0, 0, 1, 1, 1, 1, 1, 1, 1, 1, 1, 1, 1, 0, 0, 0, 0, 0, 0, 0, 0, 0, 0],\n",
    "    [0, 0, 0, 0, 1, 1, 1, 1, 1, 1, 1, 1, 1, 1, 1, 0, 0, 0, 0, 0, 0, 0, 0, 0, 0],\n",
    "    [0, 0, 0, 0, 1, 1, 1, 1, 1, 1, 1, 1, 1, 1, 1, 0, 0, 0, 0, 0, 0, 0, 0, 0, 0],\n",
    "    [0, 0, 0, 0, 1, 1, 1, 1, 1, 1, 1, 1, 1, 1, 1, 0, 0, 0, 0, 0, 0, 0, 0, 0, 0],\n",
    "    [0, 0, 0, 0, 1, 1, 1, 1, 1, 1, 1, 1, 1, 1, 1, 0, 0, 0, 0, 0, 0, 0, 0, 0, 0],\n",
    "    [0, 0, 0, 0, 2, 2, 2, 2, 2, 2, 2, 2, 2, 2, 2, 0, 0, 0, 0, 0, 0, 0, 0, 0, 0]\n",
    "])"
   ]
  },
  {
   "cell_type": "markdown",
   "id": "202f1262",
   "metadata": {},
   "source": [
    "Los `states` serán la posición en la que nos encontramos, combinada con la velocidad que llevamos."
   ]
  },
  {
   "cell_type": "code",
   "execution_count": 38,
   "id": "fa1c37f8",
   "metadata": {},
   "outputs": [],
   "source": [
    "# Create states\n",
    "states = []\n",
    "n, m = track.shape\n",
    "for pos_i in range(n):\n",
    "    for pos_j in range(m):\n",
    "        for vx in range(5):\n",
    "            for vy in range(5):\n",
    "                if (track[pos_i, pos_j] == 0) or (track[pos_i, pos_j] == 3):\n",
    "                    continue\n",
    "                states.append((pos_i, pos_j, vx, vy))"
   ]
  },
  {
   "cell_type": "markdown",
   "id": "311d9985",
   "metadata": {},
   "source": [
    "Las `actions` serán sumar o restar 1, o quedarse igual, tanto la componente x como y."
   ]
  },
  {
   "cell_type": "code",
   "execution_count": 39,
   "id": "fdc7ed0c",
   "metadata": {},
   "outputs": [],
   "source": [
    "# Create actions\n",
    "actions = {}\n",
    "for state in states:\n",
    "    actions[state] = [(increment_x, increment_y) for increment_x in [1, 0, -1] for increment_y in [1, 0, -1]]"
   ]
  },
  {
   "cell_type": "markdown",
   "id": "67709761",
   "metadata": {},
   "source": [
    "La función para generar cada episodio tiene que tener en cuenta:\n",
    "\n",
    "1. El movimiento del coche, una vez dado el `state` y la `action`. Con probabilidad de 0.1 de no moverse.\n",
    "2. El `reward` en cada `action` --> Cada vez que se mueve es $-1$.\n",
    "3. Verificar si el coche golpea la `track boundary`, la `finish line` o nada."
   ]
  },
  {
   "cell_type": "code",
   "execution_count": null,
   "id": "588f488a",
   "metadata": {},
   "outputs": [],
   "source": [
    "def move_old(state, action):\n",
    "    if np.random.random() > 0.1:\n",
    "        velocity = [state[2] + action[0], state[3] + action[1]]\n",
    "        position = [state[0] - velocity[1], state[1] + velocity[0]]\n",
    "    else:\n",
    "        velocity = [0, 0]\n",
    "        position = [state[0], state[1]]\n",
    "\n",
    "    if velocity[0] >= 0 and velocity[1] >= 0 and velocity[0] < 5 and velocity[1] < 5:\n",
    "        state = (position[0], position[1], velocity[0], velocity[1])\n",
    "        return state\n",
    "    elif velocity[0] < 0 and velocity[1] < 0:\n",
    "        state = (state[0], state[1], 0, 0)\n",
    "        return state\n",
    "    elif velocity[0] < 0 and velocity[1] < 5:\n",
    "        state = (state[0] - velocity[1], state[1], 0, velocity[1])\n",
    "        return state\n",
    "    elif velocity[1] < 0 and velocity[0] < 5:\n",
    "        state = (state[0], state[1] + velocity[0], velocity[0], 0)\n",
    "        return state\n",
    "    elif velocity[0] >= 5 and velocity[1] >= 5:\n",
    "        velocity[0], velocity[1] = 4, 4\n",
    "        state = (state[0] - velocity[1], state[1] + velocity[0], velocity[0], velocity[1])\n",
    "        return state\n",
    "    elif velocity[0] >= 5 and velocity[1] >= 0:\n",
    "        velocity[0] = 4\n",
    "        state = (state[0] - velocity[1], state[1] + velocity[0], velocity[0], velocity[1])\n",
    "        return state\n",
    "    elif velocity[1] >= 5 and velocity[0] >= 0:\n",
    "        velocity[1] = 4\n",
    "        state = (state[0] - velocity[1], state[1] + velocity[0], velocity[0], velocity[1])\n",
    "        return state\n",
    "    elif velocity[0] < 0 and velocity[1] >= 5:\n",
    "        velocity[0] = 0\n",
    "        velocity[1] = 4\n",
    "        state = (state[0] - velocity[1], state[1], velocity[0], velocity[1])\n",
    "        return state\n",
    "    elif velocity[1] < 0 and velocity[0] >= 5:\n",
    "        velocity[0] = 4\n",
    "        velocity[1] = 0\n",
    "        state = (state[0] - velocity[1], state[1]+ velocity[0], velocity[0], velocity[1])\n",
    "        return state"
   ]
  },
  {
   "cell_type": "code",
   "execution_count": 90,
   "id": "5343a8d1",
   "metadata": {},
   "outputs": [],
   "source": [
    "def move(state, action):\n",
    "    pos = np.array([state[0], state[1]])\n",
    "    vel = np.array([state[2], state[3]])\n",
    "    acc = np.array([action[0], action[1]])\n",
    "\n",
    "    # 10% de probabilidad de fallo -> coche se para\n",
    "    if np.random.random() <= 0.1:\n",
    "        return (pos[0], pos[1], 0, 0)\n",
    "\n",
    "    # Actualización tentativa de velocidad\n",
    "    new_vel = vel + acc\n",
    "\n",
    "    # Comprobación de límites: si alguna velocidad está fuera del rango válido\n",
    "    if np.any(new_vel < 0) or np.any(new_vel >= 5):\n",
    "        return (pos[0], pos[1], 0, 0)\n",
    "\n",
    "    # Movimiento de posición (recordamos: eje Y invertido vertical)\n",
    "    new_pos = pos + np.array([ -new_vel[1], new_vel[0] ])  # (fila, columna)\n",
    "\n",
    "    return (new_pos[0], new_pos[1], new_vel[0], new_vel[1])\n"
   ]
  },
  {
   "cell_type": "code",
   "execution_count": 45,
   "id": "811f5f1e",
   "metadata": {},
   "outputs": [],
   "source": [
    "def verify_position(state: tuple):\n",
    "    init_line = np.where(track == 2)\n",
    "    coords = list(zip(init_line[0], init_line[1]))\n",
    "    try:\n",
    "        if (track[state[0], state[1]] == 0) or (state[0] < 0) or (state[1] < 0):\n",
    "            idx = np.random.randint(len(coords))\n",
    "            random_init = coords[idx]\n",
    "            state = (random_init[0], random_init[1], 0, 0)\n",
    "            return state, True\n",
    "        elif (track[state[0], state[1]] == 1 or track[state[0], state[1]] == 2):\n",
    "            return state, False\n",
    "        else:\n",
    "            return True, None\n",
    "    except IndexError:\n",
    "        idx = np.random.randint(len(coords))\n",
    "        random_init = coords[idx]\n",
    "        state = (random_init[0], random_init[1], 0, 0)\n",
    "        return state, True"
   ]
  },
  {
   "cell_type": "code",
   "execution_count": 48,
   "id": "df065bb4",
   "metadata": {},
   "outputs": [],
   "source": [
    "def generate_episode_racetrack(behavior_policy: dict):\n",
    "    episode = [] # episode = [(s0, a0, r0), (s1, a1, r1), ..., (sT, aT, rT)]\n",
    "    # The car starts at a random coord of the starting line with velocity 0 at both\n",
    "    init_line = np.where(track == 2)\n",
    "    coords = list(zip(init_line[0], init_line[1]))\n",
    "    idx = np.random.randint(len(coords))\n",
    "    random_init = coords[idx]\n",
    "    state = (random_init[0], random_init[1], 0, 0)\n",
    "    # Take the action using the behavior policy\n",
    "    actions = list(behavior_policy[state].keys())\n",
    "    probs = list(behavior_policy[state].values())\n",
    "    action_idx = np.random.choice(range(len(actions)), p=probs)\n",
    "    action = actions[action_idx]\n",
    "    # Update episode\n",
    "    episode.append((state, action, -1))\n",
    "    # Loop until finish\n",
    "    state_action_resets = []\n",
    "    count_episodes = 0\n",
    "    while True:\n",
    "        # Move the car\n",
    "        state = move(state, action)\n",
    "        # Verify the position\n",
    "        if verify_position(state)[0] == True:\n",
    "            print('---------------FINISIHED!-----------------')\n",
    "            count_episodes += 1\n",
    "            print(f'Número de episodios terminados: {count_episodes}')\n",
    "            return episode\n",
    "        else:\n",
    "            if verify_position(state)[1] == True:\n",
    "                state_action_resets.append((state, action))\n",
    "            state = verify_position(state)[0]\n",
    "\n",
    "        # Take the next action\n",
    "        count = 0\n",
    "        while True:\n",
    "            count += 1\n",
    "            probs = list(behavior_policy[state].values())\n",
    "            action_idx = np.random.choice(range(len(actions)), p=probs)\n",
    "            action = actions[action_idx]\n",
    "            if (state, action) not in state_action_resets:\n",
    "                break\n",
    "            if count == 9:\n",
    "                break\n",
    "        # Update episode\n",
    "        episode.append((state, action, -1))\n"
   ]
  },
  {
   "cell_type": "code",
   "execution_count": null,
   "id": "10eaaf16",
   "metadata": {},
   "outputs": [
    {
     "name": "stdout",
     "output_type": "stream",
     "text": [
      "---------------FINISIHED!-----------------\n",
      "Número de episodios terminados: 1\n",
      "Episodio número 1 terminado.\n",
      "---------------FINISIHED!-----------------\n",
      "Número de episodios terminados: 1\n",
      "Episodio número 2 terminado.\n",
      "---------------FINISIHED!-----------------\n",
      "Número de episodios terminados: 1\n",
      "Episodio número 3 terminado.\n",
      "---------------FINISIHED!-----------------\n",
      "Número de episodios terminados: 1\n",
      "Episodio número 4 terminado.\n",
      "---------------FINISIHED!-----------------\n",
      "Número de episodios terminados: 1\n",
      "Episodio número 5 terminado.\n",
      "---------------FINISIHED!-----------------\n",
      "Número de episodios terminados: 1\n",
      "Episodio número 6 terminado.\n",
      "---------------FINISIHED!-----------------\n",
      "Número de episodios terminados: 1\n",
      "Episodio número 7 terminado.\n",
      "---------------FINISIHED!-----------------\n",
      "Número de episodios terminados: 1\n",
      "Episodio número 8 terminado.\n",
      "---------------FINISIHED!-----------------\n",
      "Número de episodios terminados: 1\n",
      "Episodio número 9 terminado.\n",
      "---------------FINISIHED!-----------------\n",
      "Número de episodios terminados: 1\n",
      "Episodio número 10 terminado.\n",
      "---------------FINISIHED!-----------------\n",
      "Número de episodios terminados: 1\n",
      "Episodio número 11 terminado.\n",
      "---------------FINISIHED!-----------------\n",
      "Número de episodios terminados: 1\n",
      "Episodio número 12 terminado.\n",
      "---------------FINISIHED!-----------------\n",
      "Número de episodios terminados: 1\n",
      "Episodio número 13 terminado.\n",
      "---------------FINISIHED!-----------------\n",
      "Número de episodios terminados: 1\n",
      "Episodio número 14 terminado.\n",
      "---------------FINISIHED!-----------------\n",
      "Número de episodios terminados: 1\n",
      "Episodio número 15 terminado.\n",
      "---------------FINISIHED!-----------------\n",
      "Número de episodios terminados: 1\n",
      "Episodio número 16 terminado.\n",
      "---------------FINISIHED!-----------------\n",
      "Número de episodios terminados: 1\n",
      "Episodio número 17 terminado.\n",
      "---------------FINISIHED!-----------------\n",
      "Número de episodios terminados: 1\n",
      "Episodio número 18 terminado.\n",
      "---------------FINISIHED!-----------------\n",
      "Número de episodios terminados: 1\n",
      "Episodio número 19 terminado.\n",
      "---------------FINISIHED!-----------------\n",
      "Número de episodios terminados: 1\n",
      "Episodio número 20 terminado.\n",
      "---------------FINISIHED!-----------------\n",
      "Número de episodios terminados: 1\n",
      "Episodio número 21 terminado.\n",
      "---------------FINISIHED!-----------------\n",
      "Número de episodios terminados: 1\n",
      "Episodio número 22 terminado.\n",
      "---------------FINISIHED!-----------------\n",
      "Número de episodios terminados: 1\n",
      "Episodio número 23 terminado.\n",
      "---------------FINISIHED!-----------------\n",
      "Número de episodios terminados: 1\n",
      "Episodio número 24 terminado.\n",
      "---------------FINISIHED!-----------------\n",
      "Número de episodios terminados: 1\n",
      "Episodio número 25 terminado.\n",
      "---------------FINISIHED!-----------------\n",
      "Número de episodios terminados: 1\n",
      "Episodio número 26 terminado.\n",
      "---------------FINISIHED!-----------------\n",
      "Número de episodios terminados: 1\n",
      "Episodio número 27 terminado.\n",
      "---------------FINISIHED!-----------------\n",
      "Número de episodios terminados: 1\n",
      "Episodio número 28 terminado.\n"
     ]
    },
    {
     "ename": "KeyboardInterrupt",
     "evalue": "",
     "output_type": "error",
     "traceback": [
      "\u001b[31m---------------------------------------------------------------------------\u001b[39m",
      "\u001b[31mKeyboardInterrupt\u001b[39m                         Traceback (most recent call last)",
      "\u001b[36mCell\u001b[39m\u001b[36m \u001b[39m\u001b[32mIn[91]\u001b[39m\u001b[32m, line 1\u001b[39m\n\u001b[32m----> \u001b[39m\u001b[32m1\u001b[39m Q, target_policy = \u001b[43mmc_control_off_policy_every_visit\u001b[49m\u001b[43m(\u001b[49m\u001b[43mstates\u001b[49m\u001b[43m=\u001b[49m\u001b[43mstates\u001b[49m\u001b[43m,\u001b[49m\n\u001b[32m      2\u001b[39m \u001b[43m                                  \u001b[49m\u001b[43mactions\u001b[49m\u001b[43m=\u001b[49m\u001b[43mactions\u001b[49m\u001b[43m,\u001b[49m\n\u001b[32m      3\u001b[39m \u001b[43m                                  \u001b[49m\u001b[43mgenerate_episode_fn_behavior_policy\u001b[49m\u001b[43m=\u001b[49m\u001b[43mgenerate_episode_racetrack\u001b[49m\u001b[43m,\u001b[49m\n\u001b[32m      4\u001b[39m \u001b[43m                                  \u001b[49m\u001b[43mgamma\u001b[49m\u001b[43m=\u001b[49m\u001b[32;43m1\u001b[39;49m\u001b[43m,\u001b[49m\n\u001b[32m      5\u001b[39m \u001b[43m                                  \u001b[49m\u001b[43mnum_episodes\u001b[49m\u001b[43m=\u001b[49m\u001b[32;43m10000\u001b[39;49m\u001b[43m)\u001b[49m\n",
      "\u001b[36mFile \u001b[39m\u001b[32mc:\\Users\\Usuario\\Documents\\Reinforcement-Learning\\Monte_Carlo_Methods\\MC_methods.py:323\u001b[39m, in \u001b[36mmc_control_off_policy_every_visit\u001b[39m\u001b[34m(states, actions, generate_episode_fn_behavior_policy, gamma, num_episodes)\u001b[39m\n\u001b[32m    321\u001b[39m     behavior_policy[s] = {a: p \u001b[38;5;28;01mfor\u001b[39;00m a, p \u001b[38;5;129;01min\u001b[39;00m \u001b[38;5;28mzip\u001b[39m(actions[s], probs)}\n\u001b[32m    322\u001b[39m \u001b[38;5;66;03m# Generate en episode\u001b[39;00m\n\u001b[32m--> \u001b[39m\u001b[32m323\u001b[39m episode = \u001b[43mgenerate_episode_fn_behavior_policy\u001b[49m\u001b[43m(\u001b[49m\u001b[43mbehavior_policy\u001b[49m\u001b[43m)\u001b[49m\n\u001b[32m    324\u001b[39m count_episodes += \u001b[32m1\u001b[39m\n\u001b[32m    325\u001b[39m \u001b[38;5;28mprint\u001b[39m(\u001b[33mf\u001b[39m\u001b[33m\"\u001b[39m\u001b[33mEpisodio número \u001b[39m\u001b[38;5;132;01m{\u001b[39;00mcount_episodes\u001b[38;5;132;01m}\u001b[39;00m\u001b[33m terminado.\u001b[39m\u001b[33m\"\u001b[39m)\n",
      "\u001b[36mCell\u001b[39m\u001b[36m \u001b[39m\u001b[32mIn[48]\u001b[39m\u001b[32m, line 23\u001b[39m, in \u001b[36mgenerate_episode_racetrack\u001b[39m\u001b[34m(behavior_policy)\u001b[39m\n\u001b[32m     21\u001b[39m state = move(state, action)\n\u001b[32m     22\u001b[39m \u001b[38;5;66;03m# Verify the position\u001b[39;00m\n\u001b[32m---> \u001b[39m\u001b[32m23\u001b[39m \u001b[38;5;28;01mif\u001b[39;00m \u001b[43mverify_position\u001b[49m\u001b[43m(\u001b[49m\u001b[43mstate\u001b[49m\u001b[43m)\u001b[49m[\u001b[32m0\u001b[39m] == \u001b[38;5;28;01mTrue\u001b[39;00m:\n\u001b[32m     24\u001b[39m     \u001b[38;5;28mprint\u001b[39m(\u001b[33m'\u001b[39m\u001b[33m---------------FINISIHED!-----------------\u001b[39m\u001b[33m'\u001b[39m)\n\u001b[32m     25\u001b[39m     count_episodes += \u001b[32m1\u001b[39m\n",
      "\u001b[36mCell\u001b[39m\u001b[36m \u001b[39m\u001b[32mIn[45]\u001b[39m\u001b[32m, line 2\u001b[39m, in \u001b[36mverify_position\u001b[39m\u001b[34m(state)\u001b[39m\n\u001b[32m      1\u001b[39m \u001b[38;5;28;01mdef\u001b[39;00m\u001b[38;5;250m \u001b[39m\u001b[34mverify_position\u001b[39m(state: \u001b[38;5;28mtuple\u001b[39m):\n\u001b[32m----> \u001b[39m\u001b[32m2\u001b[39m     init_line = \u001b[43mnp\u001b[49m\u001b[43m.\u001b[49m\u001b[43mwhere\u001b[49m\u001b[43m(\u001b[49m\u001b[43mtrack\u001b[49m\u001b[43m \u001b[49m\u001b[43m==\u001b[49m\u001b[43m \u001b[49m\u001b[32;43m2\u001b[39;49m\u001b[43m)\u001b[49m\n\u001b[32m      3\u001b[39m     coords = \u001b[38;5;28mlist\u001b[39m(\u001b[38;5;28mzip\u001b[39m(init_line[\u001b[32m0\u001b[39m], init_line[\u001b[32m1\u001b[39m]))\n\u001b[32m      4\u001b[39m     \u001b[38;5;28;01mtry\u001b[39;00m:\n",
      "\u001b[31mKeyboardInterrupt\u001b[39m: "
     ]
    }
   ],
   "source": [
    "Q, target_policy = mc_control_off_policy_every_visit(states=states,\n",
    "                                  actions=actions,\n",
    "                                  generate_episode_fn_behavior_policy=generate_episode_racetrack,\n",
    "                                  gamma=1,\n",
    "                                  num_episodes=5000)"
   ]
  },
  {
   "cell_type": "code",
   "execution_count": 59,
   "id": "0036c0bf",
   "metadata": {},
   "outputs": [
    {
     "data": {
      "text/plain": [
       "[(33, 4, 0, 0),\n",
       " (33, 5, 0, 0),\n",
       " (33, 6, 0, 0),\n",
       " (33, 7, 0, 0),\n",
       " (33, 8, 0, 0),\n",
       " (33, 9, 0, 0),\n",
       " (33, 10, 0, 0),\n",
       " (33, 11, 0, 0),\n",
       " (33, 12, 0, 0),\n",
       " (33, 13, 0, 0),\n",
       " (33, 14, 0, 0)]"
      ]
     },
     "execution_count": 59,
     "metadata": {},
     "output_type": "execute_result"
    }
   ],
   "source": [
    "initial_states = []\n",
    "for pos_i in range(n):\n",
    "    for pos_j in range(m):\n",
    "        if track[pos_i, pos_j] == 2:\n",
    "            initial_states.append((pos_i, pos_j, 0, 0))\n",
    "\n",
    "initial_states"
   ]
  },
  {
   "cell_type": "code",
   "execution_count": 62,
   "id": "20340aa2",
   "metadata": {},
   "outputs": [
    {
     "data": {
      "text/plain": [
       "(0, 1)"
      ]
     },
     "execution_count": 62,
     "metadata": {},
     "output_type": "execute_result"
    }
   ],
   "source": [
    "target_policy[(33, 6, 0, 0)]"
   ]
  },
  {
   "cell_type": "code",
   "execution_count": 64,
   "id": "afb66025",
   "metadata": {},
   "outputs": [
    {
     "data": {
      "text/plain": [
       "(0, 1)"
      ]
     },
     "execution_count": 64,
     "metadata": {},
     "output_type": "execute_result"
    }
   ],
   "source": [
    "target_policy[(32, 6, 0, 1)]"
   ]
  },
  {
   "cell_type": "code",
   "execution_count": 65,
   "id": "9a367f2d",
   "metadata": {},
   "outputs": [
    {
     "data": {
      "text/plain": [
       "(0, 1)"
      ]
     },
     "execution_count": 65,
     "metadata": {},
     "output_type": "execute_result"
    }
   ],
   "source": [
    "target_policy[(30, 6, 0, 2)]"
   ]
  },
  {
   "cell_type": "code",
   "execution_count": 66,
   "id": "4372b358",
   "metadata": {},
   "outputs": [
    {
     "data": {
      "text/plain": [
       "(-1, 1)"
      ]
     },
     "execution_count": 66,
     "metadata": {},
     "output_type": "execute_result"
    }
   ],
   "source": [
    "target_policy[(27, 6, 0, 3)]"
   ]
  },
  {
   "cell_type": "code",
   "execution_count": 78,
   "id": "5abd47ee",
   "metadata": {},
   "outputs": [
    {
     "data": {
      "text/plain": [
       "(-1, 1)"
      ]
     },
     "execution_count": 78,
     "metadata": {},
     "output_type": "execute_result"
    }
   ],
   "source": [
    "target_policy[(25, 7, 1, 2)]"
   ]
  },
  {
   "cell_type": "code",
   "execution_count": 79,
   "id": "dbf280ea",
   "metadata": {},
   "outputs": [
    {
     "data": {
      "text/plain": [
       "(0, 0)"
      ]
     },
     "execution_count": 79,
     "metadata": {},
     "output_type": "execute_result"
    }
   ],
   "source": [
    "target_policy[(22, 7, 0, 3)]"
   ]
  },
  {
   "cell_type": "code",
   "execution_count": 80,
   "id": "93477f55",
   "metadata": {},
   "outputs": [
    {
     "data": {
      "text/plain": [
       "(-1, -1)"
      ]
     },
     "execution_count": 80,
     "metadata": {},
     "output_type": "execute_result"
    }
   ],
   "source": [
    "target_policy[(19, 7, 0, 3)]"
   ]
  },
  {
   "cell_type": "code",
   "execution_count": 81,
   "metadata": {},
   "outputs": [
    {
     "data": {
      "text/plain": [
       "(1, 1)"
      ]
     },
     "execution_count": 81,
     "metadata": {},
     "output_type": "execute_result"
    }
   ],
   "source": [
    "target_policy[(17, 7, 0, 2)]"
   ]
  },
  {
   "cell_type": "code",
   "execution_count": 82,
   "id": "408f681a",
   "metadata": {},
   "outputs": [
    {
     "data": {
      "text/plain": [
       "(1, 0)"
      ]
     },
     "execution_count": 82,
     "metadata": {},
     "output_type": "execute_result"
    }
   ],
   "source": [
    "target_policy[(14, 8, 1, 3)]"
   ]
  },
  {
   "cell_type": "code",
   "execution_count": 83,
   "id": "e3ca912a",
   "metadata": {},
   "outputs": [
    {
     "data": {
      "text/plain": [
       "(1, -1)"
      ]
     },
     "execution_count": 83,
     "metadata": {},
     "output_type": "execute_result"
    }
   ],
   "source": [
    "target_policy[(11, 10, 2, 3)]"
   ]
  },
  {
   "cell_type": "code",
   "execution_count": 84,
   "id": "f459df6d",
   "metadata": {},
   "outputs": [
    {
     "data": {
      "text/plain": [
       "(1, 1)"
      ]
     },
     "execution_count": 84,
     "metadata": {},
     "output_type": "execute_result"
    }
   ],
   "source": [
    "target_policy[(9, 13, 3, 2)]"
   ]
  },
  {
   "cell_type": "code",
   "execution_count": 85,
   "id": "3d508d30",
   "metadata": {},
   "outputs": [
    {
     "data": {
      "text/plain": [
       "(1, -1)"
      ]
     },
     "execution_count": 85,
     "metadata": {},
     "output_type": "execute_result"
    }
   ],
   "source": [
    "target_policy[(6, 17, 4, 3)]"
   ]
  },
  {
   "cell_type": "code",
   "execution_count": 86,
   "id": "ab2dfe37",
   "metadata": {},
   "outputs": [
    {
     "data": {
      "text/plain": [
       "(-1, 0)"
      ]
     },
     "execution_count": 86,
     "metadata": {},
     "output_type": "execute_result"
    }
   ],
   "source": [
    "target_policy[(4, 21, 4, 2)]"
   ]
  },
  {
   "cell_type": "code",
   "execution_count": 89,
   "id": "57f262b9",
   "metadata": {},
   "outputs": [
    {
     "ename": "KeyError",
     "evalue": "(2, 24, 3, 2)",
     "output_type": "error",
     "traceback": [
      "\u001b[31m---------------------------------------------------------------------------\u001b[39m",
      "\u001b[31mKeyError\u001b[39m                                  Traceback (most recent call last)",
      "\u001b[36mCell\u001b[39m\u001b[36m \u001b[39m\u001b[32mIn[89]\u001b[39m\u001b[32m, line 1\u001b[39m\n\u001b[32m----> \u001b[39m\u001b[32m1\u001b[39m \u001b[43mtarget_policy\u001b[49m\u001b[43m[\u001b[49m\u001b[43m(\u001b[49m\u001b[32;43m2\u001b[39;49m\u001b[43m,\u001b[49m\u001b[43m \u001b[49m\u001b[32;43m24\u001b[39;49m\u001b[43m,\u001b[49m\u001b[43m \u001b[49m\u001b[32;43m3\u001b[39;49m\u001b[43m,\u001b[49m\u001b[43m \u001b[49m\u001b[32;43m2\u001b[39;49m\u001b[43m)\u001b[49m\u001b[43m]\u001b[49m\n",
      "\u001b[31mKeyError\u001b[39m: (2, 24, 3, 2)"
     ]
    }
   ],
   "source": [
    "target_policy[(2, 24, 3, 2)]"
   ]
  }
 ],
 "metadata": {
  "kernelspec": {
   "display_name": "rl",
   "language": "python",
   "name": "python3"
  },
  "language_info": {
   "codemirror_mode": {
    "name": "ipython",
    "version": 3
   },
   "file_extension": ".py",
   "mimetype": "text/x-python",
   "name": "python",
   "nbconvert_exporter": "python",
   "pygments_lexer": "ipython3",
   "version": "3.11.13"
  }
 },
 "nbformat": 4,
 "nbformat_minor": 5
}
